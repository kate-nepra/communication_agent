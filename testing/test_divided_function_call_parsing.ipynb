{
 "cells": [
  {
   "cell_type": "code",
   "source": [
    "from src.data_acquisition.content_processing.content_parsing import get_parsed_content_by_divided_function_call\n",
    "from dotenv import load_dotenv\n",
    "\n",
    "load_dotenv()"
   ],
   "metadata": {
    "collapsed": false,
    "ExecuteTime": {
     "end_time": "2024-05-12T16:45:54.661806Z",
     "start_time": "2024-05-12T16:45:49.282218Z"
    }
   },
   "id": "36d4e7fce6add2f8",
   "execution_count": 1,
   "outputs": []
  },
  {
   "cell_type": "code",
   "source": [
    "from src.agents_constants import GPT_3_AGENT, LLAMA3_70_API_AGENT, LLAMA3_70_AGENT\n",
    "\n",
    "openaiAgent = GPT_3_AGENT\n",
    "llamaAgent = LLAMA3_70_API_AGENT\n",
    "ollamaAgent = LLAMA3_70_AGENT"
   ],
   "metadata": {
    "collapsed": false,
    "ExecuteTime": {
     "end_time": "2024-05-12T16:45:54.838350Z",
     "start_time": "2024-05-12T16:45:54.668849Z"
    }
   },
   "id": "a6bfd76ca47fcb4c",
   "execution_count": 3,
   "outputs": []
  },
  {
   "cell_type": "code",
   "source": [
    "url = \"https://en.brno.cz/w/vehicle-registration\"\n",
    "content = \"\"\"\n",
    "Registration of a road vehicle owner/operator in the register of road vehicles\n",
    "\n",
    "(Registration of a new vehicle – the first registration in the Czech Republic)\n",
    "\n",
    "The application needs to be accompanied by the following:\n",
    "\n",
    "    valid proof of the applicant’s identity (e.g. identity card, proof of residence permit, proof of asylum granted in the territory of the Czech Republic or proof of the length of temporary residence if the road vehicle operator does not have permanent residence in the Czech Republic),\n",
    "    the vehicle’s Registration Certificate – clean copy of the Technical Certificate, Part II, or original of the Certificate of Conformity (COC),\n",
    "    Green Card issued in the Czech Republic in accordance with the Motor Third Party Liability Insurance Act,\n",
    "    proof of acquisition including VAT (invoice, purchase contract, etc.) or proof of payment of VAT in case of acquisition of a new means of transport from another Member State of the European Union,\n",
    "    temporary registration plate (printed on paper), if issued,\n",
    "    payment of a registration administrative fee (amounting to several hundred CZK),\n",
    "    if acting by proxy: a written power of attorney with the principal’s officially verified signature or signed by the principal pursuant to the Act on Electronic Acts and Authorized Conversion of Documents (i.e. sent by a data box),\n",
    "    the applicant needs to be registered in the ROB Population Register.\n",
    "\n",
    "\"\"\""
   ],
   "metadata": {
    "collapsed": false,
    "ExecuteTime": {
     "end_time": "2024-05-12T16:45:54.845805Z",
     "start_time": "2024-05-12T16:45:54.840482Z"
    }
   },
   "id": "83fb3002b5395d6d",
   "execution_count": 4,
   "outputs": []
  },
  {
   "metadata": {
    "ExecuteTime": {
     "end_time": "2024-05-12T16:46:04.350654Z",
     "start_time": "2024-05-12T16:45:54.848433Z"
    }
   },
   "cell_type": "code",
   "source": [
    "ct_llama = get_parsed_content_by_divided_function_call(llamaAgent, url, content)\n",
    "ct_llama"
   ],
   "id": "706823807fb28f05",
   "execution_count": 5,
   "outputs": []
  },
  {
   "metadata": {
    "ExecuteTime": {
     "end_time": "2024-04-21T22:41:07.528568Z",
     "start_time": "2024-04-21T22:41:03.673224Z"
    }
   },
   "cell_type": "code",
   "source": [
    "ct_openai = get_parsed_content_by_divided_function_call(openaiAgent, url, content)\n",
    "ct_openai"
   ],
   "id": "a6013d80777673b9",
   "execution_count": 5,
   "outputs": []
  },
  {
   "metadata": {
    "ExecuteTime": {
     "end_time": "2024-04-21T22:52:18.749823Z",
     "start_time": "2024-04-21T22:46:38.404159Z"
    }
   },
   "cell_type": "code",
   "source": [
    "ct_ollama = get_parsed_content_by_divided_function_call(ollamaAgent, url, content)\n",
    "ct_ollama"
   ],
   "id": "3e52960ea578c6fa",
   "execution_count": 6,
   "outputs": []
  }
 ],
 "metadata": {
  "kernelspec": {
   "display_name": "Python 3",
   "language": "python",
   "name": "python3"
  },
  "language_info": {
   "codemirror_mode": {
    "name": "ipython",
    "version": 2
   },
   "file_extension": ".py",
   "mimetype": "text/x-python",
   "name": "python",
   "nbconvert_exporter": "python",
   "pygments_lexer": "ipython2",
   "version": "2.7.6"
  }
 },
 "nbformat": 4,
 "nbformat_minor": 5
}
