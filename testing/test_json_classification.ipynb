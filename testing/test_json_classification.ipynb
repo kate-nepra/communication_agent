{
 "cells": [
  {
   "cell_type": "code",
   "id": "initial_id",
   "metadata": {
    "collapsed": true,
    "ExecuteTime": {
     "end_time": "2024-04-10T22:25:00.476441Z",
     "start_time": "2024-04-10T22:24:57.896132Z"
    }
   },
   "source": [
    "from src.agents.api_agent import OpenAIApiAgent, LlamaApiAgent, OllamaApiAgent\n",
    "from src.data_acquisition.content_processing.content_classification import get_content_type_by_json_call\n",
    "from dotenv import load_dotenv\n",
    "import os\n",
    "\n",
    "load_dotenv()"
   ],
   "outputs": [
    {
     "data": {
      "text/plain": [
       "True"
      ]
     },
     "execution_count": 1,
     "metadata": {},
     "output_type": "execute_result"
    }
   ],
   "execution_count": 1
  },
  {
   "cell_type": "code",
   "source": [
    "openai_key = os.getenv(\"OPEN_AI_API_KEY\")\n",
    "openai_url = \"https://api.openai.com/v1\"\n",
    "openai_model = \"gpt-3.5-turbo-1106\"\n",
    "\n",
    "llama_key = os.getenv(\"LLAMA_API_KEY\")\n",
    "llama_url = \"https://api.llama-api.com\"\n",
    "llama_model = \"llama-13b-chat\"\n",
    "\n",
    "ollama_key = \"ollama\"\n",
    "ollama_url = \"http://localhost:11434/v1/\"\n",
    "ollama_model = \"llama2:13b\""
   ],
   "metadata": {
    "collapsed": false,
    "ExecuteTime": {
     "end_time": "2024-04-10T22:25:00.481318Z",
     "start_time": "2024-04-10T22:25:00.477829Z"
    }
   },
   "id": "ba30d02439c23ebc",
   "outputs": [],
   "execution_count": 2
  },
  {
   "cell_type": "code",
   "source": [
    "openaiAgent = OpenAIApiAgent(openai_url, openai_key, openai_model)\n",
    "llamaAgent = LlamaApiAgent(llama_url, llama_key, llama_model)\n",
    "ollamaAgent = OllamaApiAgent(ollama_url, ollama_key, ollama_model)"
   ],
   "metadata": {
    "collapsed": false,
    "ExecuteTime": {
     "end_time": "2024-04-10T22:25:00.620399Z",
     "start_time": "2024-04-10T22:25:00.482654Z"
    }
   },
   "id": "5eeedb26bb429d55",
   "outputs": [],
   "execution_count": 3
  },
  {
   "cell_type": "code",
   "source": [
    "content = \"URL: https://www.gotobrno.cz/en/explore-brno/go-to-brnos-holy-sites/, CONTENT: BRNO’S HOLY SITES Like many other cities in Europe, Brno has a great number of historical buildings related to Christianity to visit. It also has a synagogue and a mosque. A cathedral, a basilica, churches, and chapels – there are many sacred buildings in Brno. Some are of great historical value, and some boast unique architectural elements. This tour will take you to the most interesting ones. Most of the churches in Brno are Roman Catholic. The cathedral on Petrov Hill is one of the prominent features on the city skyline. There are also churches dedicated to St James, St Michael, and St Thomas. In Staré Brno (Old Brno), you can visit Bazilika Nanebevzetí Panny Marie (the Basilica of the Assumption of Our Lady), founded in the 14th century by Queen Elisabeth Richeza. The golden cupola of Pravoslavný chrám sv. Václava (the Orthodox Church of St Wenceslas) on Špilberk Hill is certain to catch your eye. Brno also has Protestant churches, including Červený kostel (the Red Church) and the functionalist Husův sbor (Czechoslovak Hussite Church building). Agudas Achim, the only surviving synagogue of Brno’s original four, is another place worth visiting. The city also holds the first Czech mosque, which was built in Vídeňská Street in 1998.\""
   ],
   "metadata": {
    "collapsed": false,
    "ExecuteTime": {
     "end_time": "2024-04-10T22:25:03.557233Z",
     "start_time": "2024-04-10T22:25:03.553085Z"
    }
   },
   "id": "88de12d5c179a88b",
   "outputs": [],
   "execution_count": 4
  },
  {
   "cell_type": "code",
   "source": [
    "ct_openai = get_content_type_by_json_call(openaiAgent, content)\n",
    "ct_openai"
   ],
   "metadata": {
    "collapsed": false,
    "ExecuteTime": {
     "end_time": "2024-04-10T11:05:41.793149Z",
     "start_time": "2024-04-10T11:05:40.930054Z"
    }
   },
   "id": "2a158f1a74fb9582",
   "outputs": [
    {
     "name": "stdout",
     "output_type": "stream",
     "text": [
      "[{'role': 'system', 'content': \" You are a smart classifier of web-scraped text. Follow these instructions:\\n     1. Take the given text as a one whole entity.\\n     2. Classify the entity by returning the type name of the entity: one of 'place', 'event', 'administration', 'static':\\n        place: entity that describes places, tours or destinations in or near Brno city, such as restaurant, café, bar, bakery, museum, greenery, church, castle, university, kino, theatre or similar.\\n        event: entity that describes events, such as concert, exhibition, celebration, festival, sports match, theatrical performance or similar.\\n        administration: entity that contains administrative information such as Municipal office, business, authorities, insurance, social Care, vehicle registration, taxes, fees, information for expats, school system, residence, ID cards or similar.\\n        static: entity that contains various articles, blog posts, or an article from wikipedia or information about well-known personality connected with Brno that is not likely to change in next 5 years. This entity does not contain any information about places in Brno, events or administrative.\\n     3. Return only JSON with the type of the entity and stop, do not provide any additional text.   \\n     Here is the text to process\\n     ```URL: https://www.gotobrno.cz/en/explore-brno/go-to-brnos-holy-sites/, CONTENT: BRNO’S HOLY SITES Like many other cities in Europe, Brno has a great number of historical buildings related to Christianity to visit. It also has a synagogue and a mosque. A cathedral, a basilica, churches, and chapels – there are many sacred buildings in Brno. Some are of great historical value, and some boast unique architectural elements. This tour will take you to the most interesting ones. Most of the churches in Brno are Roman Catholic. The cathedral on Petrov Hill is one of the prominent features on the city skyline. There are also churches dedicated to St James, St Michael, and St Thomas. In Staré Brno (Old Brno), you can visit Bazilika Nanebevzetí Panny Marie (the Basilica of the Assumption of Our Lady), founded in the 14th century by Queen Elisabeth Richeza. The golden cupola of Pravoslavný chrám sv. Václava (the Orthodox Church of St Wenceslas) on Špilberk Hill is certain to catch your eye. Brno also has Protestant churches, including Červený kostel (the Red Church) and the functionalist Husův sbor (Czechoslovak Hussite Church building). Agudas Achim, the only surviving synagogue of Brno’s original four, is another place worth visiting. The city also holds the first Czech mosque, which was built in Vídeňská Street in 1998.```\"}]\n"
     ]
    },
    {
     "data": {
      "text/plain": [
       "{'type': 'place'}"
      ]
     },
     "execution_count": 5,
     "metadata": {},
     "output_type": "execute_result"
    }
   ],
   "execution_count": 5
  },
  {
   "cell_type": "code",
   "source": [
    "ct_llama = get_content_type_by_json_call(llamaAgent, content)\n",
    "ct_llama"
   ],
   "metadata": {
    "collapsed": false,
    "ExecuteTime": {
     "end_time": "2024-04-10T11:05:45.130519Z",
     "start_time": "2024-04-10T11:05:41.795345Z"
    }
   },
   "id": "d1b68e47fce7db26",
   "outputs": [
    {
     "data": {
      "text/plain": [
       "{'type': 'static'}"
      ]
     },
     "execution_count": 6,
     "metadata": {},
     "output_type": "execute_result"
    }
   ],
   "execution_count": 6
  },
  {
   "cell_type": "code",
   "source": [
    "ct_ollama = get_content_type_by_json_call(ollamaAgent, content)\n",
    "ct_ollama"
   ],
   "metadata": {
    "collapsed": false,
    "ExecuteTime": {
     "end_time": "2024-04-10T22:26:34.591689Z",
     "start_time": "2024-04-10T22:25:07.385578Z"
    }
   },
   "id": "df4faa69a4a54214",
   "outputs": [
    {
     "name": "stdout",
     "output_type": "stream",
     "text": [
      "Messages: [{'role': 'system', 'content': \" You are a smart classifier of web-scraped text. Follow these instructions:\\n     1. Take the given text as a one whole entity.\\n     2. Classify the entity by returning the type name of the entity: one of 'place', 'event', 'administration', 'static':\\n        place: entity that describes places, tours or destinations in or near Brno city, such as restaurant, café, bar, bakery, museum, greenery, church, castle, university, kino, theatre or similar.\\n        event: entity that describes events, such as concert, exhibition, celebration, festival, sports match, theatrical performance or similar.\\n        administration: entity that contains administrative information such as Municipal office, business, authorities, insurance, social Care, vehicle registration, taxes, fees, information for expats, school system, residence, ID cards or similar.\\n        static: entity that contains various articles, blog posts, or an article from wikipedia or information about well-known personality connected with Brno that is not likely to change in next 5 years. This entity does not contain any information about places in Brno, events or administrative.\\n     3. Return only JSON with the type of the entity and stop, do not provide any additional text.   \\n     Here is the text to process\\n     ```URL: https://www.gotobrno.cz/en/explore-brno/go-to-brnos-holy-sites/, CONTENT: BRNO’S HOLY SITES Like many other cities in Europe, Brno has a great number of historical buildings related to Christianity to visit. It also has a synagogue and a mosque. A cathedral, a basilica, churches, and chapels – there are many sacred buildings in Brno. Some are of great historical value, and some boast unique architectural elements. This tour will take you to the most interesting ones. Most of the churches in Brno are Roman Catholic. The cathedral on Petrov Hill is one of the prominent features on the city skyline. There are also churches dedicated to St James, St Michael, and St Thomas. In Staré Brno (Old Brno), you can visit Bazilika Nanebevzetí Panny Marie (the Basilica of the Assumption of Our Lady), founded in the 14th century by Queen Elisabeth Richeza. The golden cupola of Pravoslavný chrám sv. Václava (the Orthodox Church of St Wenceslas) on Špilberk Hill is certain to catch your eye. Brno also has Protestant churches, including Červený kostel (the Red Church) and the functionalist Husův sbor (Czechoslovak Hussite Church building). Agudas Achim, the only surviving synagogue of Brno’s original four, is another place worth visiting. The city also holds the first Czech mosque, which was built in Vídeňská Street in 1998.```\"}]\n",
      "Response: type='static'\n"
     ]
    },
    {
     "data": {
      "text/plain": [
       "{'type': 'static'}"
      ]
     },
     "execution_count": 5,
     "metadata": {},
     "output_type": "execute_result"
    }
   ],
   "execution_count": 5
  },
  {
   "metadata": {},
   "cell_type": "code",
   "outputs": [],
   "execution_count": null,
   "source": "",
   "id": "8ecd740b7099098d"
  }
 ],
 "metadata": {
  "kernelspec": {
   "display_name": "Python 3",
   "language": "python",
   "name": "python3"
  },
  "language_info": {
   "codemirror_mode": {
    "name": "ipython",
    "version": 2
   },
   "file_extension": ".py",
   "mimetype": "text/x-python",
   "name": "python",
   "nbconvert_exporter": "python",
   "pygments_lexer": "ipython2",
   "version": "2.7.6"
  }
 },
 "nbformat": 4,
 "nbformat_minor": 5
}
