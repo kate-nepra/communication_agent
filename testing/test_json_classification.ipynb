{
 "cells": [
  {
   "cell_type": "code",
   "id": "initial_id",
   "metadata": {
    "collapsed": true,
    "ExecuteTime": {
     "end_time": "2024-05-04T17:39:15.201283Z",
     "start_time": "2024-05-04T17:39:12.700821Z"
    }
   },
   "source": [
    "from src.data_acquisition.content_processing.content_classification import get_content_type_by_json_call\n",
    "from dotenv import load_dotenv\n",
    "\n",
    "load_dotenv()"
   ],
   "execution_count": 1,
   "outputs": []
  },
  {
   "cell_type": "code",
   "source": [
    "from src.agents_constants import GPT_3_AGENT, LLAMA3_70_API_AGENT, LLAMA3_70_AGENT\n",
    "\n",
    "openaiAgent = GPT_3_AGENT\n",
    "llamaAgent = LLAMA3_70_API_AGENT\n",
    "ollamaAgent = LLAMA3_70_AGENT"
   ],
   "metadata": {
    "collapsed": false,
    "ExecuteTime": {
     "end_time": "2024-05-04T17:39:15.206436Z",
     "start_time": "2024-05-04T17:39:15.202743Z"
    }
   },
   "id": "ba30d02439c23ebc",
   "execution_count": 2,
   "outputs": []
  },
  {
   "cell_type": "code",
   "source": [
    "content = \"URL: https://www.gotobrno.cz/en/explore-brno/go-to-brnos-holy-sites/, CONTENT: BRNO’S HOLY SITES Like many other cities in Europe, Brno has a great number of historical buildings related to Christianity to visit. It also has a synagogue and a mosque. A cathedral, a basilica, churches, and chapels – there are many sacred buildings in Brno. Some are of great historical value, and some boast unique architectural elements. This tour will take you to the most interesting ones. Most of the churches in Brno are Roman Catholic. The cathedral on Petrov Hill is one of the prominent features on the city skyline. There are also churches dedicated to St James, St Michael, and St Thomas. In Staré Brno (Old Brno), you can visit Bazilika Nanebevzetí Panny Marie (the Basilica of the Assumption of Our Lady), founded in the 14th century by Queen Elisabeth Richeza. The golden cupola of Pravoslavný chrám sv. Václava (the Orthodox Church of St Wenceslas) on Špilberk Hill is certain to catch your eye. Brno also has Protestant churches, including Červený kostel (the Red Church) and the functionalist Husův sbor (Czechoslovak Hussite Church building). Agudas Achim, the only surviving synagogue of Brno’s original four, is another place worth visiting. The city also holds the first Czech mosque, which was built in Vídeňská Street in 1998.\""
   ],
   "metadata": {
    "collapsed": false,
    "ExecuteTime": {
     "end_time": "2024-05-04T17:39:15.354635Z",
     "start_time": "2024-05-04T17:39:15.351606Z"
    }
   },
   "id": "88de12d5c179a88b",
   "execution_count": 4,
   "outputs": []
  },
  {
   "cell_type": "code",
   "source": [
    "ct_openai = get_content_type_by_json_call(openaiAgent, content)\n",
    "ct_openai"
   ],
   "metadata": {
    "collapsed": false,
    "ExecuteTime": {
     "end_time": "2024-05-04T17:39:10.867692Z",
     "start_time": "2024-05-04T17:39:09.258058Z"
    }
   },
   "id": "2a158f1a74fb9582",
   "execution_count": 16,
   "outputs": []
  },
  {
   "cell_type": "code",
   "source": [
    "ct_llama = get_content_type_by_json_call(llamaAgent, content)\n",
    "ct_llama"
   ],
   "metadata": {
    "collapsed": false
   },
   "id": "d1b68e47fce7db26",
   "execution_count": null,
   "outputs": []
  },
  {
   "cell_type": "code",
   "source": [
    "ct_ollama = get_content_type_by_json_call(ollamaAgent, content)\n",
    "ct_ollama"
   ],
   "metadata": {
    "collapsed": false,
    "ExecuteTime": {
     "end_time": "2024-05-04T17:40:23.174833Z",
     "start_time": "2024-05-04T17:39:20.057932Z"
    }
   },
   "id": "df4faa69a4a54214",
   "execution_count": 5,
   "outputs": []
  }
 ],
 "metadata": {
  "kernelspec": {
   "display_name": "Python 3",
   "language": "python",
   "name": "python3"
  },
  "language_info": {
   "codemirror_mode": {
    "name": "ipython",
    "version": 2
   },
   "file_extension": ".py",
   "mimetype": "text/x-python",
   "name": "python",
   "nbconvert_exporter": "python",
   "pygments_lexer": "ipython2",
   "version": "2.7.6"
  }
 },
 "nbformat": 4,
 "nbformat_minor": 5
}
