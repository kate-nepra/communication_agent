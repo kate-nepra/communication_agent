{
 "cells": [
  {
   "cell_type": "code",
   "source": [
    "from src.data_acquisition.content_processing.content_parsing import get_parsed_content_preclassified_function_call\n",
    "from dotenv import load_dotenv\n",
    "\n",
    "load_dotenv()"
   ],
   "metadata": {
    "collapsed": false
   },
   "id": "36d4e7fce6add2f8",
   "execution_count": null,
   "outputs": []
  },
  {
   "cell_type": "code",
   "source": [
    "from src.agents_constants import GPT_3_AGENT, LLAMA3_70_API_AGENT, LLAMA3_70_AGENT\n",
    "\n",
    "openaiAgent = GPT_3_AGENT\n",
    "llamaAgent = LLAMA3_70_API_AGENT\n",
    "ollamaAgent = LLAMA3_70_AGENT"
   ],
   "metadata": {
    "collapsed": true
   },
   "id": "initial_id",
   "execution_count": null,
   "outputs": []
  },
  {
   "cell_type": "code",
   "source": [
    "url = \"https://www.gotobrno.cz/en/events/kolektiv-fau-rauschen/\"\n",
    "content = \"\"\"INDUSTRA\n",
    "kolektiv fau: Rauschen\n",
    "PLACEK Festival is presenting German theatre colective fau and their performance Rauschen! First time in Brno\n",
    "The world today is one of a constant background noise: there\\’s a podcast on at all times, a discussion, a Tik-Tok video is chasing the next one and it doesn\\’t matter how quiet it is – it\\’s never actually silent – since our minds won\\’t stop reproducing the rhythms around us. In \\”Rauschen\\” we are searching for the off-switch. We are trying to escape the chaos of everyday life, and instead listen to what silence sounds like, feels like, what it means to break through the static. If this is even possible.\n",
    "The fau collective are Melanie Klos, Paul Schliermann and Jakob Grundherr. They have been studying theater and media studies at the University of Bayreuth since 2019. Their atmospheric works focus on experiments mapping the intersection of sound, light, video and performance.\n",
    "Language: English\n",
    "Photos taken by Julian Tilly and Helmut Bauer\n",
    "10 may 2024 - 18:30\n",
    "Adults\n",
    "150 CZK\n",
    "Students\n",
    "100 CZK\n",
    "Na festival je též možno zakoupit ceslofestivalovou akreditaci, zahrnující i vstup na představení Rauschen.\n",
    "INDUSTRA\n",
    "Lazaretní 1\"\"\""
   ],
   "metadata": {
    "collapsed": false
   },
   "id": "83fb3002b5395d6d",
   "execution_count": null,
   "outputs": []
  },
  {
   "metadata": {},
   "cell_type": "code",
   "source": [
    "ct_llama = get_parsed_content_preclassified_function_call(llamaAgent, url, content)\n",
    "ct_llama"
   ],
   "id": "706823807fb28f05",
   "execution_count": null,
   "outputs": []
  },
  {
   "metadata": {},
   "cell_type": "code",
   "source": [
    "ct_openai = get_parsed_content_preclassified_function_call(openaiAgent, url, content)\n",
    "ct_openai"
   ],
   "id": "a6013d80777673b9",
   "execution_count": null,
   "outputs": []
  },
  {
   "metadata": {},
   "cell_type": "code",
   "source": [
    "ct_ollama = get_parsed_content_preclassified_function_call(ollamaAgent, url, content)\n",
    "ct_ollama"
   ],
   "id": "3e52960ea578c6fa",
   "execution_count": null,
   "outputs": []
  },
  {
   "metadata": {},
   "cell_type": "code",
   "source": "",
   "id": "7e2d92b236af2e6b",
   "execution_count": null,
   "outputs": []
  }
 ],
 "metadata": {
  "kernelspec": {
   "display_name": "Python 3",
   "language": "python",
   "name": "python3"
  },
  "language_info": {
   "codemirror_mode": {
    "name": "ipython",
    "version": 2
   },
   "file_extension": ".py",
   "mimetype": "text/x-python",
   "name": "python",
   "nbconvert_exporter": "python",
   "pygments_lexer": "ipython2",
   "version": "2.7.6"
  }
 },
 "nbformat": 4,
 "nbformat_minor": 5
}
