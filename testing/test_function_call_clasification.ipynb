{
 "cells": [
  {
   "cell_type": "code",
   "execution_count": 1,
   "id": "36d4e7fce6add2f8",
   "metadata": {
    "ExecuteTime": {
     "end_time": "2024-05-04T17:22:03.946295Z",
     "start_time": "2024-05-04T17:22:03.933921Z"
    },
    "collapsed": false,
    "jupyter": {
     "outputs_hidden": false
    }
   },
   "source": [
    "from dotenv import load_dotenv\n",
    "from src.data_acquisition.content_processing.content_classification import get_content_type_preclassified_function_call\n",
    "\n",
    "load_dotenv()"
   ],
   "outputs": []
  },
  {
   "cell_type": "code",
   "execution_count": 3,
   "id": "a6bfd76ca47fcb4c",
   "metadata": {
    "ExecuteTime": {
     "end_time": "2024-05-04T17:20:43.292249Z",
     "start_time": "2024-05-04T17:20:43.101098Z"
    },
    "collapsed": false,
    "jupyter": {
     "outputs_hidden": false
    }
   },
   "source": [
    "from src.agents_constants import GPT_3_AGENT, LLAMA3_70_API_AGENT, LLAMA3_70_AGENT\n",
    "\n",
    "openaiAgent = GPT_3_AGENT\n",
    "llamaAgent = LLAMA3_70_API_AGENT\n",
    "ollamaAgent = LLAMA3_70_AGENT"
   ],
   "outputs": []
  },
  {
   "cell_type": "code",
   "execution_count": 4,
   "id": "83fb3002b5395d6d",
   "metadata": {
    "ExecuteTime": {
     "end_time": "2024-05-04T17:20:43.588201Z",
     "start_time": "2024-05-04T17:20:43.581230Z"
    },
    "collapsed": false,
    "jupyter": {
     "outputs_hidden": false
    }
   },
   "source": [
    "content = \"URL: https://www.gotobrno.cz/en/explore-brno/go-to-brnos-holy-sites/, CONTENT: BRNO’S HOLY SITES Like many other cities in Europe, Brno has a great number of historical buildings related to Christianity to visit. It also has a synagogue and a mosque. A cathedral, a basilica, churches, and chapels – there are many sacred buildings in Brno. Some are of great historical value, and some boast unique architectural elements. This tour will take you to the most interesting ones. Most of the churches in Brno are Roman Catholic. The cathedral on Petrov Hill is one of the prominent features on the city skyline. There are also churches dedicated to St James, St Michael, and St Thomas. In Staré Brno (Old Brno), you can visit Bazilika Nanebevzetí Panny Marie (the Basilica of the Assumption of Our Lady), founded in the 14th century by Queen Elisabeth Richeza. The golden cupola of Pravoslavný chrám sv. Václava (the Orthodox Church of St Wenceslas) on Špilberk Hill is certain to catch your eye. Brno also has Protestant churches, including Červený kostel (the Red Church) and the functionalist Husův sbor (Czechoslovak Hussite Church building). Agudas Achim, the only surviving synagogue of Brno’s original four, is another place worth visiting. The city also holds the first Czech mosque, which was built in Vídeňská Street in 1998.\""
   ],
   "outputs": []
  },
  {
   "cell_type": "code",
   "execution_count": 5,
   "id": "297338d92f083247",
   "metadata": {
    "ExecuteTime": {
     "end_time": "2024-05-04T17:15:19.439645Z",
     "start_time": "2024-05-04T17:15:13.885824Z"
    },
    "collapsed": false,
    "jupyter": {
     "outputs_hidden": false
    }
   },
   "source": [
    "ct_llama = get_content_type_preclassified_function_call(llamaAgent, \"\", content)\n",
    "ct_llama"
   ],
   "outputs": []
  },
  {
   "cell_type": "code",
   "execution_count": null,
   "id": "2260f5cf6c4ef4bf",
   "metadata": {
    "collapsed": false,
    "jupyter": {
     "outputs_hidden": false
    }
   },
   "source": [
    "ct_openai = get_content_type_preclassified_function_call(openaiAgent, \"\", content)\n",
    "ct_openai"
   ],
   "outputs": []
  },
  {
   "cell_type": "code",
   "execution_count": null,
   "id": "2a31ce895b5f3815",
   "metadata": {
    "ExecuteTime": {
     "end_time": "2024-05-04T17:22:02.065345Z",
     "start_time": "2024-05-04T17:20:45.848235Z"
    },
    "collapsed": false,
    "jupyter": {
     "outputs_hidden": false
    }
   },
   "source": [
    "ct_ollama = get_content_type_preclassified_function_call(ollamaAgent, \"\", content)\n",
    "ct_ollama"
   ],
   "outputs": []
  }
 ],
 "metadata": {
  "kernelspec": {
   "display_name": "Python 3 (ipykernel)",
   "language": "python",
   "name": "python3"
  },
  "language_info": {
   "codemirror_mode": {
    "name": "ipython",
    "version": 3
   },
   "file_extension": ".py",
   "mimetype": "text/x-python",
   "name": "python",
   "nbconvert_exporter": "python",
   "pygments_lexer": "ipython3",
   "version": "3.10.12"
  }
 },
 "nbformat": 4,
 "nbformat_minor": 5
}
