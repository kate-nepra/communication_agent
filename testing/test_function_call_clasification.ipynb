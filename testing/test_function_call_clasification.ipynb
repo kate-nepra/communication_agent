{
 "cells": [
  {
   "cell_type": "code",
   "outputs": [],
   "source": [
    "from dotenv import load_dotenv\n",
    "from src.agents.api_agent import OpenAIApiAgent, LlamaApiAgent, LocalApiAgent\n",
    "from src.data_acquisition.content_processing.content_classification import get_content_type_by_function_call\n",
    "import os\n",
    "\n",
    "load_dotenv()"
   ],
   "metadata": {
    "collapsed": false
   },
   "id": "36d4e7fce6add2f8",
   "execution_count": null
  },
  {
   "cell_type": "code",
   "outputs": [],
   "source": [
    "openai_key = os.getenv(\"OPEN_AI_API_KEY\")\n",
    "openai_url = \"https://api.openai.com/v1\"\n",
    "openai_model = \"gpt-3.5-turbo-1106\"\n",
    "\n",
    "llama_key = os.getenv(\"LLAMA_API_KEY\")\n",
    "llama_url = \"https://api.llama-api.com\"\n",
    "llama_model = \"llama-13b-chat\"\n",
    "\n",
    "ollama_key = \"ollama\"\n",
    "ollama_url = \"http://localhost:11434/v1/\"\n",
    "ollama_model = \"llama2:13b\""
   ],
   "metadata": {
    "collapsed": true
   },
   "id": "initial_id",
   "execution_count": null
  },
  {
   "cell_type": "code",
   "outputs": [],
   "source": [
    "openaiAgent = OpenAIApiAgent(openai_url, openai_key, openai_model)\n",
    "llamaAgent = LlamaApiAgent(llama_url, llama_key, llama_model)\n",
    "ollamaAgent = LocalApiAgent(ollama_url, ollama_key, ollama_model)"
   ],
   "metadata": {
    "collapsed": false
   },
   "id": "a6bfd76ca47fcb4c",
   "execution_count": null
  },
  {
   "cell_type": "code",
   "outputs": [],
   "source": [
    "content = \"URL: https://www.gotobrno.cz/en/explore-brno/go-to-brnos-holy-sites/, CONTENT: BRNO’S HOLY SITES Like many other cities in Europe, Brno has a great number of historical buildings related to Christianity to visit. It also has a synagogue and a mosque. A cathedral, a basilica, churches, and chapels – there are many sacred buildings in Brno. Some are of great historical value, and some boast unique architectural elements. This tour will take you to the most interesting ones. Most of the churches in Brno are Roman Catholic. The cathedral on Petrov Hill is one of the prominent features on the city skyline. There are also churches dedicated to St James, St Michael, and St Thomas. In Staré Brno (Old Brno), you can visit Bazilika Nanebevzetí Panny Marie (the Basilica of the Assumption of Our Lady), founded in the 14th century by Queen Elisabeth Richeza. The golden cupola of Pravoslavný chrám sv. Václava (the Orthodox Church of St Wenceslas) on Špilberk Hill is certain to catch your eye. Brno also has Protestant churches, including Červený kostel (the Red Church) and the functionalist Husův sbor (Czechoslovak Hussite Church building). Agudas Achim, the only surviving synagogue of Brno’s original four, is another place worth visiting. The city also holds the first Czech mosque, which was built in Vídeňská Street in 1998.\""
   ],
   "metadata": {
    "collapsed": false
   },
   "id": "83fb3002b5395d6d",
   "execution_count": null
  },
  {
   "cell_type": "code",
   "outputs": [],
   "source": [
    "ct_llama = get_content_type_by_function_call(llamaAgent, content)\n",
    "ct_llama"
   ],
   "metadata": {
    "collapsed": false
   },
   "id": "297338d92f083247",
   "execution_count": null
  },
  {
   "cell_type": "code",
   "outputs": [],
   "source": [
    "ct_openai = get_content_type_by_function_call(openaiAgent, content)\n",
    "ct_openai"
   ],
   "metadata": {
    "collapsed": false
   },
   "id": "2260f5cf6c4ef4bf",
   "execution_count": null
  },
  {
   "cell_type": "code",
   "outputs": [],
   "source": [
    "ct_ollama = get_content_type_by_function_call(ollamaAgent, content)\n",
    "ct_ollama"
   ],
   "metadata": {
    "collapsed": false
   },
   "id": "2a31ce895b5f3815",
   "execution_count": null
  }
 ],
 "metadata": {
  "kernelspec": {
   "display_name": "Python 3",
   "language": "python",
   "name": "python3"
  },
  "language_info": {
   "codemirror_mode": {
    "name": "ipython",
    "version": 2
   },
   "file_extension": ".py",
   "mimetype": "text/x-python",
   "name": "python",
   "nbconvert_exporter": "python",
   "pygments_lexer": "ipython2",
   "version": "2.7.6"
  }
 },
 "nbformat": 4,
 "nbformat_minor": 5
}
