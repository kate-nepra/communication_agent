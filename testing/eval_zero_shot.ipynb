{
 "cells": [
  {
   "cell_type": "code",
   "id": "initial_id",
   "metadata": {
    "collapsed": true,
    "ExecuteTime": {
     "end_time": "2024-04-25T17:28:27.496686Z",
     "start_time": "2024-04-25T17:28:27.489920Z"
    }
   },
   "source": [
    "import pandas as pd\n",
    "\n",
    "df_path = '/home/rinaen/PycharmProjects/communication_agent/testing/eval_chunks.csv'\n",
    "df = pd.read_csv(df_path)"
   ],
   "outputs": [],
   "execution_count": 4
  },
  {
   "metadata": {
    "ExecuteTime": {
     "end_time": "2024-04-25T17:28:27.522540Z",
     "start_time": "2024-04-25T17:28:27.518998Z"
    }
   },
   "cell_type": "code",
   "source": [
    "from src.data_acquisition.content_processing.content_classification import get_content_type_simple\n",
    "\n",
    "\n",
    "def get_classified(chunks: list[str]):\n",
    "    classified = []\n",
    "    for chunk in chunks:\n",
    "        try:\n",
    "            classified.append(get_content_type_simple(chunk))\n",
    "        except Exception:\n",
    "            classified.append(None)\n",
    "    return classified"
   ],
   "id": "5b15706e321937c7",
   "outputs": [],
   "execution_count": 5
  },
  {
   "metadata": {
    "ExecuteTime": {
     "end_time": "2024-04-25T17:37:45.011517Z",
     "start_time": "2024-04-25T17:28:27.529367Z"
    }
   },
   "cell_type": "code",
   "source": [
    "chunks = df['chunk'].tolist()\n",
    "classified = get_classified(chunks)\n",
    "df['zero-shot'] = classified\n",
    "display(df)"
   ],
   "id": "7231e35891137e3e",
   "outputs": [
    {
     "data": {
      "text/plain": [
       "                                                  url  \\\n",
       "0   https://www.gotobrno.cz/wp-content/uploads/202...   \n",
       "1   https://www.gotobrno.cz/wp-content/uploads/202...   \n",
       "2   https://www.gotobrno.cz/wp-content/uploads/202...   \n",
       "3   https://www.gotobrno.cz/wp-content/uploads/202...   \n",
       "4   https://www.gotobrno.cz/wp-content/uploads/202...   \n",
       "..                                                ...   \n",
       "95                  https://www.ndbrno.cz/en/program/   \n",
       "96  https://www.mzm.cz/intervence-premysl-hytych-/...   \n",
       "97      https://www.mzm.cz/mista/pripravovane-vystavy   \n",
       "98  https://moravska-galerie.cz/vystavy/stale-expo...   \n",
       "99  https://moravska-galerie.cz/vystavy/vystavni-i...   \n",
       "\n",
       "                                                chunk   type classified  \n",
       "0   Element\\n“An excellent fusion of top-quality m...  place      place  \n",
       "1   Hostinec U Semináru\\n“In the mood for a Czech ...  place      place  \n",
       "2   Kohout NA VÍNĚ\\n“Ideal for festive occasions t...  place      place  \n",
       "3   MANYA Sushi & Sake Izakaya\\n“Think you know ev...  place      place  \n",
       "4   Mikrofarma\\n“You can tell these guys know meat...  place      place  \n",
       "..                                                ...    ...        ...  \n",
       "95  Anton Pavlovich Chekhov\\nThree Sisters\\nMahen ...  event      event  \n",
       "96  INTERVENTION. Přemysl Hytych / Floral object\\n...  event      event  \n",
       "97  Opening of the exhibition Thousand Faces of Am...  event      event  \n",
       "98  Admission fee voluntary\\nART DESIGN FASHION\\nM...  event      event  \n",
       "99  Admission fee voluntary\\nExhibition interventi...  event      event  \n",
       "\n",
       "[100 rows x 4 columns]"
      ],
      "text/html": [
       "<div>\n",
       "<style scoped>\n",
       "    .dataframe tbody tr th:only-of-type {\n",
       "        vertical-align: middle;\n",
       "    }\n",
       "\n",
       "    .dataframe tbody tr th {\n",
       "        vertical-align: top;\n",
       "    }\n",
       "\n",
       "    .dataframe thead th {\n",
       "        text-align: right;\n",
       "    }\n",
       "</style>\n",
       "<table border=\"1\" class=\"dataframe\">\n",
       "  <thead>\n",
       "    <tr style=\"text-align: right;\">\n",
       "      <th></th>\n",
       "      <th>url</th>\n",
       "      <th>chunk</th>\n",
       "      <th>type</th>\n",
       "      <th>classified</th>\n",
       "    </tr>\n",
       "  </thead>\n",
       "  <tbody>\n",
       "    <tr>\n",
       "      <th>0</th>\n",
       "      <td>https://www.gotobrno.cz/wp-content/uploads/202...</td>\n",
       "      <td>Element\\n“An excellent fusion of top-quality m...</td>\n",
       "      <td>place</td>\n",
       "      <td>place</td>\n",
       "    </tr>\n",
       "    <tr>\n",
       "      <th>1</th>\n",
       "      <td>https://www.gotobrno.cz/wp-content/uploads/202...</td>\n",
       "      <td>Hostinec U Semináru\\n“In the mood for a Czech ...</td>\n",
       "      <td>place</td>\n",
       "      <td>place</td>\n",
       "    </tr>\n",
       "    <tr>\n",
       "      <th>2</th>\n",
       "      <td>https://www.gotobrno.cz/wp-content/uploads/202...</td>\n",
       "      <td>Kohout NA VÍNĚ\\n“Ideal for festive occasions t...</td>\n",
       "      <td>place</td>\n",
       "      <td>place</td>\n",
       "    </tr>\n",
       "    <tr>\n",
       "      <th>3</th>\n",
       "      <td>https://www.gotobrno.cz/wp-content/uploads/202...</td>\n",
       "      <td>MANYA Sushi &amp; Sake Izakaya\\n“Think you know ev...</td>\n",
       "      <td>place</td>\n",
       "      <td>place</td>\n",
       "    </tr>\n",
       "    <tr>\n",
       "      <th>4</th>\n",
       "      <td>https://www.gotobrno.cz/wp-content/uploads/202...</td>\n",
       "      <td>Mikrofarma\\n“You can tell these guys know meat...</td>\n",
       "      <td>place</td>\n",
       "      <td>place</td>\n",
       "    </tr>\n",
       "    <tr>\n",
       "      <th>...</th>\n",
       "      <td>...</td>\n",
       "      <td>...</td>\n",
       "      <td>...</td>\n",
       "      <td>...</td>\n",
       "    </tr>\n",
       "    <tr>\n",
       "      <th>95</th>\n",
       "      <td>https://www.ndbrno.cz/en/program/</td>\n",
       "      <td>Anton Pavlovich Chekhov\\nThree Sisters\\nMahen ...</td>\n",
       "      <td>event</td>\n",
       "      <td>event</td>\n",
       "    </tr>\n",
       "    <tr>\n",
       "      <th>96</th>\n",
       "      <td>https://www.mzm.cz/intervence-premysl-hytych-/...</td>\n",
       "      <td>INTERVENTION. Přemysl Hytych / Floral object\\n...</td>\n",
       "      <td>event</td>\n",
       "      <td>event</td>\n",
       "    </tr>\n",
       "    <tr>\n",
       "      <th>97</th>\n",
       "      <td>https://www.mzm.cz/mista/pripravovane-vystavy</td>\n",
       "      <td>Opening of the exhibition Thousand Faces of Am...</td>\n",
       "      <td>event</td>\n",
       "      <td>event</td>\n",
       "    </tr>\n",
       "    <tr>\n",
       "      <th>98</th>\n",
       "      <td>https://moravska-galerie.cz/vystavy/stale-expo...</td>\n",
       "      <td>Admission fee voluntary\\nART DESIGN FASHION\\nM...</td>\n",
       "      <td>event</td>\n",
       "      <td>event</td>\n",
       "    </tr>\n",
       "    <tr>\n",
       "      <th>99</th>\n",
       "      <td>https://moravska-galerie.cz/vystavy/vystavni-i...</td>\n",
       "      <td>Admission fee voluntary\\nExhibition interventi...</td>\n",
       "      <td>event</td>\n",
       "      <td>event</td>\n",
       "    </tr>\n",
       "  </tbody>\n",
       "</table>\n",
       "<p>100 rows × 4 columns</p>\n",
       "</div>"
      ]
     },
     "metadata": {},
     "output_type": "display_data"
    }
   ],
   "execution_count": 6
  },
  {
   "metadata": {
    "ExecuteTime": {
     "end_time": "2024-04-25T18:34:56.765811Z",
     "start_time": "2024-04-25T18:34:56.759475Z"
    }
   },
   "cell_type": "code",
   "source": [
    "# rename column 'classified' to zero-shot\n",
    "df.rename(columns={'classified': 'zero-shot'}, inplace=True)\n"
   ],
   "id": "75f4994f8697290d",
   "outputs": [],
   "execution_count": 7
  },
  {
   "metadata": {
    "ExecuteTime": {
     "end_time": "2024-04-25T18:39:54.815187Z",
     "start_time": "2024-04-25T18:39:54.802882Z"
    }
   },
   "cell_type": "code",
   "source": [
    "same_df = df.copy()\n",
    "same_df['same'] = df['zero-shot'] == df['type']\n",
    "same = same_df['same'].value_counts()\n",
    "print(f\"Correctly classified: {same[True]} %\")"
   ],
   "id": "5c91e39dca7ad163",
   "outputs": [
    {
     "name": "stdout",
     "output_type": "stream",
     "text": [
      "Correctly classified: 46 %\n"
     ]
    }
   ],
   "execution_count": 10
  },
  {
   "metadata": {
    "ExecuteTime": {
     "end_time": "2024-04-25T18:55:34.205004Z",
     "start_time": "2024-04-25T18:55:34.198762Z"
    }
   },
   "cell_type": "code",
   "source": [
    "place_df = same_df[same_df['type'] == 'place']\n",
    "correct_places = place_df['same'].sum()\n",
    "places_percentage = correct_places / len(place_df) * 100\n",
    "print(\n",
    "    f\"Correctly classified places: {correct_places} out of {len(place_df)}, which makes {places_percentage} %\")\n"
   ],
   "id": "5ca4665c0c01e495",
   "outputs": [
    {
     "name": "stdout",
     "output_type": "stream",
     "text": [
      "Correctly classified places: 25 out of 25, which makes 100.0 %\n"
     ]
    }
   ],
   "execution_count": 25
  },
  {
   "metadata": {
    "ExecuteTime": {
     "end_time": "2024-04-25T18:55:34.859636Z",
     "start_time": "2024-04-25T18:55:34.854850Z"
    }
   },
   "cell_type": "code",
   "source": [
    "static_df = same_df[same_df['type'] == 'static']\n",
    "correct_static = static_df['same'].sum()\n",
    "static_percentage = correct_static / len(static_df) * 100\n",
    "print(\n",
    "    f\"Correctly classified static: {correct_static} out of {len(static_df)}, which makes {static_percentage} %\")"
   ],
   "id": "deb6387148b9b04b",
   "outputs": [
    {
     "name": "stdout",
     "output_type": "stream",
     "text": [
      "Correctly classified static: 0 out of 25, which makes 0.0 %\n"
     ]
    }
   ],
   "execution_count": 26
  },
  {
   "metadata": {
    "ExecuteTime": {
     "end_time": "2024-04-25T18:55:35.464496Z",
     "start_time": "2024-04-25T18:55:35.455644Z"
    }
   },
   "cell_type": "code",
   "source": [
    "administration_df = same_df[same_df['type'] == 'administration']\n",
    "correct_administration = administration_df['same'].sum()\n",
    "administration_percentage = correct_administration / len(administration_df) * 100\n",
    "print(\n",
    "    f\"Correctly classified administration: {correct_administration} out of {len(administration_df)}, which makes {administration_percentage} %\")"
   ],
   "id": "6134f6233f352c6",
   "outputs": [
    {
     "name": "stdout",
     "output_type": "stream",
     "text": [
      "Correctly classified administration: 1 out of 25, which makes 4.0 %\n"
     ]
    }
   ],
   "execution_count": 27
  },
  {
   "metadata": {
    "ExecuteTime": {
     "end_time": "2024-04-25T18:55:36.118617Z",
     "start_time": "2024-04-25T18:55:36.110331Z"
    }
   },
   "cell_type": "code",
   "source": [
    "event_df = same_df[same_df['type'] == 'event']\n",
    "correct_event = event_df['same'].sum()\n",
    "event_percentage = correct_event / len(event_df) * 100\n",
    "print(\n",
    "    f\"Correctly classified event: {correct_event} out of {len(event_df)}, which makes {event_percentage} %\")"
   ],
   "id": "2256354645f6ab0d",
   "outputs": [
    {
     "name": "stdout",
     "output_type": "stream",
     "text": [
      "Correctly classified event: 20 out of 25, which makes 80.0 %\n"
     ]
    }
   ],
   "execution_count": 28
  },
  {
   "metadata": {
    "ExecuteTime": {
     "end_time": "2024-04-25T18:58:14.503206Z",
     "start_time": "2024-04-25T18:58:14.495240Z"
    }
   },
   "cell_type": "code",
   "source": [
    "eval_df = pd.DataFrame({\n",
    "    'Třída': ['place', 'static', 'administration', 'event', 'všechny'],\n",
    "    'Správně': [correct_places, correct_static, correct_administration, correct_event, same[True]],\n",
    "    'Celkem': [len(place_df), len(static_df), len(administration_df), len(event_df), len(same_df)],\n",
    "    '[%]': [places_percentage, static_percentage, administration_percentage, event_percentage,\n",
    "            same[True] / len(same_df) * 100]\n",
    "})\n",
    "display(eval_df)"
   ],
   "id": "79bf93aa2d7a7d1a",
   "outputs": [
    {
     "data": {
      "text/plain": [
       "            Třída  Správně  Celkem    [%]\n",
       "0           place       25      25  100.0\n",
       "1          static        0      25    0.0\n",
       "2  administration        1      25    4.0\n",
       "3           event       20      25   80.0\n",
       "4         všechny       46     100   46.0"
      ],
      "text/html": [
       "<div>\n",
       "<style scoped>\n",
       "    .dataframe tbody tr th:only-of-type {\n",
       "        vertical-align: middle;\n",
       "    }\n",
       "\n",
       "    .dataframe tbody tr th {\n",
       "        vertical-align: top;\n",
       "    }\n",
       "\n",
       "    .dataframe thead th {\n",
       "        text-align: right;\n",
       "    }\n",
       "</style>\n",
       "<table border=\"1\" class=\"dataframe\">\n",
       "  <thead>\n",
       "    <tr style=\"text-align: right;\">\n",
       "      <th></th>\n",
       "      <th>Třída</th>\n",
       "      <th>Správně</th>\n",
       "      <th>Celkem</th>\n",
       "      <th>[%]</th>\n",
       "    </tr>\n",
       "  </thead>\n",
       "  <tbody>\n",
       "    <tr>\n",
       "      <th>0</th>\n",
       "      <td>place</td>\n",
       "      <td>25</td>\n",
       "      <td>25</td>\n",
       "      <td>100.0</td>\n",
       "    </tr>\n",
       "    <tr>\n",
       "      <th>1</th>\n",
       "      <td>static</td>\n",
       "      <td>0</td>\n",
       "      <td>25</td>\n",
       "      <td>0.0</td>\n",
       "    </tr>\n",
       "    <tr>\n",
       "      <th>2</th>\n",
       "      <td>administration</td>\n",
       "      <td>1</td>\n",
       "      <td>25</td>\n",
       "      <td>4.0</td>\n",
       "    </tr>\n",
       "    <tr>\n",
       "      <th>3</th>\n",
       "      <td>event</td>\n",
       "      <td>20</td>\n",
       "      <td>25</td>\n",
       "      <td>80.0</td>\n",
       "    </tr>\n",
       "    <tr>\n",
       "      <th>4</th>\n",
       "      <td>všechny</td>\n",
       "      <td>46</td>\n",
       "      <td>100</td>\n",
       "      <td>46.0</td>\n",
       "    </tr>\n",
       "  </tbody>\n",
       "</table>\n",
       "</div>"
      ]
     },
     "metadata": {},
     "output_type": "display_data"
    }
   ],
   "execution_count": 31
  },
  {
   "metadata": {
    "ExecuteTime": {
     "end_time": "2024-04-25T19:04:07.994870Z",
     "start_time": "2024-04-25T19:04:07.987912Z"
    }
   },
   "cell_type": "code",
   "source": "eval_df.to_csv('zero_shot_eval.csv', index=False)",
   "id": "5e9b7a33b7a93736",
   "outputs": [],
   "execution_count": 32
  },
  {
   "metadata": {},
   "cell_type": "code",
   "outputs": [],
   "execution_count": null,
   "source": "",
   "id": "8aa5211b078f2311"
  }
 ],
 "metadata": {
  "kernelspec": {
   "display_name": "Python 3",
   "language": "python",
   "name": "python3"
  },
  "language_info": {
   "codemirror_mode": {
    "name": "ipython",
    "version": 2
   },
   "file_extension": ".py",
   "mimetype": "text/x-python",
   "name": "python",
   "nbconvert_exporter": "python",
   "pygments_lexer": "ipython2",
   "version": "2.7.6"
  }
 },
 "nbformat": 4,
 "nbformat_minor": 5
}
