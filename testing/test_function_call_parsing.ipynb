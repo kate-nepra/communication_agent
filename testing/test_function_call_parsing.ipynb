{
 "cells": [
  {
   "cell_type": "code",
   "source": [
    "from src.agents.api_agent import OpenAIApiAgent, LlamaApiAgent, OllamaApiAgent\n",
    "from src.data_acquisition.content_processing.content_parsing import get_parsed_content_by_function_call\n",
    "from dotenv import load_dotenv\n",
    "import os\n",
    "\n",
    "load_dotenv()"
   ],
   "metadata": {
    "collapsed": false,
    "ExecuteTime": {
     "end_time": "2024-04-10T22:45:14.962708Z",
     "start_time": "2024-04-10T22:45:14.318342Z"
    }
   },
   "id": "36d4e7fce6add2f8",
   "outputs": [
    {
     "data": {
      "text/plain": [
       "True"
      ]
     },
     "execution_count": 1,
     "metadata": {},
     "output_type": "execute_result"
    }
   ],
   "execution_count": 1
  },
  {
   "cell_type": "code",
   "source": [
    "openai_key = os.getenv(\"OPEN_AI_API_KEY\")\n",
    "openai_url = \"https://api.openai.com/v1\"\n",
    "openai_model = \"gpt-3.5-turbo-1106\"\n",
    "\n",
    "llama_key = os.getenv(\"LLAMA_API_KEY\")\n",
    "llama_url = \"https://api.llama-api.com\"\n",
    "llama_model = \"llama-13b-chat\"\n",
    "\n",
    "ollama_key = \"ollama\"\n",
    "ollama_url = \"http://localhost:11434/v1/\"\n",
    "ollama_model = \"llama2:13b\""
   ],
   "metadata": {
    "collapsed": true,
    "ExecuteTime": {
     "end_time": "2024-04-10T22:45:14.967437Z",
     "start_time": "2024-04-10T22:45:14.963965Z"
    }
   },
   "id": "initial_id",
   "outputs": [],
   "execution_count": 2
  },
  {
   "cell_type": "code",
   "source": [
    "openaiAgent = OpenAIApiAgent(openai_url, openai_key, openai_model)\n",
    "llamaAgent = LlamaApiAgent(llama_url, llama_key, llama_model)\n",
    "ollamaAgent = OllamaApiAgent(ollama_url, ollama_key, ollama_model)"
   ],
   "metadata": {
    "collapsed": false,
    "ExecuteTime": {
     "end_time": "2024-04-10T22:45:15.103127Z",
     "start_time": "2024-04-10T22:45:14.968324Z"
    }
   },
   "id": "a6bfd76ca47fcb4c",
   "outputs": [],
   "execution_count": 3
  },
  {
   "cell_type": "code",
   "source": [
    "url = \"https://www.gotobrno.cz/en/explore-brno/go-to-brnos-holy-sites/\"\n",
    "content = \"BRNO’S HOLY SITES Like many other cities in Europe, Brno has a great number of historical buildings related to Christianity to visit. It also has a synagogue and a mosque. A cathedral, a basilica, churches, and chapels – there are many sacred buildings in Brno. Some are of great historical value, and some boast unique architectural elements. This tour will take you to the most interesting ones. Most of the churches in Brno are Roman Catholic. The cathedral on Petrov Hill is one of the prominent features on the city skyline. There are also churches dedicated to St James, St Michael, and St Thomas. In Staré Brno (Old Brno), you can visit Bazilika Nanebevzetí Panny Marie (the Basilica of the Assumption of Our Lady), founded in the 14th century by Queen Elisabeth Richeza. The golden cupola of Pravoslavný chrám sv. Václava (the Orthodox Church of St Wenceslav) on Špilberk Hill is certain to catch your eye. Brno also has Protestant churches, including Červený kostel (the Red Church) and the functionalist Husův sbor (Czechoslovak Hussite Church building). Agudas Achim, the only surviving synagogue of Brno’s original four, is another place worth visiting. The city also holds the first Czech mosque, which was built in Vídeňská Street in 1998.\""
   ],
   "metadata": {
    "collapsed": false,
    "ExecuteTime": {
     "end_time": "2024-04-10T22:45:15.108572Z",
     "start_time": "2024-04-10T22:45:15.105066Z"
    }
   },
   "id": "83fb3002b5395d6d",
   "outputs": [],
   "execution_count": 4
  },
  {
   "cell_type": "code",
   "source": [
    "url = \"https://www.gotobrno.cz/en/events/made-by-fire/\"\n",
    "content = \"\"\"Event Made by Fire\n",
    "The Made by Fire exhibition commemorates the 150th anniversary of the founding of The Museum of Applied Arts of The Moravian Gallery in Brno. Experience the power and fragility of Bohemian glass and porcelain in their trial by fire.\n",
    "Glass and porcelain are somewhat of a national treasure. They have a long tradition and a unique place in Czech culture. But what do these terms mean today? Faced with one crisis after another – social, ecological and geopolitical – does it still make sense to develop glass and porcelain into the future?\n",
    "We believe it does, and we are convinced that the disclaimer “Made in Czechia“ has a bright future ahead, both with standard factories as well as small art studios.\n",
    "All 50+ original works featured as part of the exhibition have a common origin – their glass, porcelain and ceramics were made in the fires of Czech furnaces and kilns. We selected pieces from prestigious glass producers and exporters, the foremost porcelain works, the major players on the design scene, as well as the up-and-coming generation of designers whose work it pays to follow.\n",
    "The exhibition will take you through four thematic sections: Industry → , Adaptation → , Identity → and Experiment → .\n",
    "You will encounter works which test the limits of applied art and deal with contemporary social problems, such as industry competitiveness, its environmental impact, the use of classical forms, and the implementation of new technologies.\n",
    "17 november 2023–31 august 2024\n",
    "190 / 95 / 370 CZK\n",
    "Moravian Gallery in Brno Husova 14\"\"\""
   ],
   "metadata": {
    "collapsed": false,
    "ExecuteTime": {
     "end_time": "2024-04-10T22:45:15.126246Z",
     "start_time": "2024-04-10T22:45:15.109491Z"
    }
   },
   "id": "6bccf0a11b2197cb",
   "outputs": [],
   "execution_count": 5
  },
  {
   "metadata": {
    "ExecuteTime": {
     "end_time": "2024-04-10T22:45:22.735992Z",
     "start_time": "2024-04-10T22:45:15.127380Z"
    }
   },
   "cell_type": "code",
   "source": [
    "ct_llama = get_parsed_content_by_function_call(llamaAgent, url, content)\n",
    "ct_llama"
   ],
   "id": "297338d92f083247",
   "outputs": [
    {
     "name": "stdout",
     "output_type": "stream",
     "text": [
      "Function call response: ChatCompletion(id=None, choices=[Choice(finish_reason='function_call', index=0, logprobs=None, message=ChatCompletionMessage(content=None, role='assistant', function_call=FunctionCall(arguments={'header': 'Made by Fire', 'text': 'The Made by Fire exhibition commemorates the 150th anniversary of the founding of The Museum of Applied Arts of The Moravian Gallery in Brno.', 'brief': 'Experience the power and fragility of Bohemian glass and porcelain in their trial by fire.', 'address': 'Moravian Gallery in Brno, Husova 14', 'dates': [{'start': '2023-11-17', 'end': '2024-08-31'}]}, name='add_event'), tool_calls=None))], created=1712789122, model='llama-13b-chat', object=None, system_fingerprint=None, usage=CompletionUsage(completion_tokens=115, prompt_tokens=409, total_tokens=524))\n",
      "Function name: add_event\n",
      "Function parameters: ['header', 'text', 'brief', 'address', 'dates']\n",
      "Fixed encoding: {'header': 'Made by Fire', 'text': 'The Made by Fire exhibition commemorates the 150th anniversary of the founding of The Museum of Applied Arts of The Moravian Gallery in Brno.', 'brief': 'Experience the power and fragility of Bohemian glass and porcelain in their trial by fire.', 'address': 'Moravian Gallery in Brno, Husova 14', 'dates': [{'start': '2023-11-17', 'end': '2024-08-31'}]}\n",
      "Function arguments: {'header': 'Made by Fire', 'text': 'The Made by Fire exhibition commemorates the 150th anniversary of the founding of The Museum of Applied Arts of The Moravian Gallery in Brno.', 'brief': 'Experience the power and fragility of Bohemian glass and porcelain in their trial by fire.', 'address': 'Moravian Gallery in Brno, Husova 14', 'dates': [{'start': '2023-11-17', 'end': '2024-08-31'}]}\n",
      "Function parameters: ['header', 'text', 'brief', 'address', 'dates']\n",
      "Function name: add_event\n",
      "Checking argument: header\n",
      "Checking argument: text\n",
      "Checking argument: brief\n",
      "Checking argument: address\n",
      "Checking argument: dates\n",
      "Matched arguments: {'header': 'Made by Fire', 'text': 'The Made by Fire exhibition commemorates the 150th anniversary of the founding of The Museum of Applied Arts of The Moravian Gallery in Brno.', 'brief': 'Experience the power and fragility of Bohemian glass and porcelain in their trial by fire.', 'address': 'Moravian Gallery in Brno, Husova 14', 'dates': [{'start': '2023-11-17', 'end': '2024-08-31'}]}\n"
     ]
    },
    {
     "data": {
      "text/plain": [
       "EventSchema(header='Made by Fire', record_type='event', brief='Experience the power and fragility of Bohemian glass and porcelain in their trial by fire.', text='The Made by Fire exhibition commemorates the 150th anniversary of the founding of The Museum of Applied Arts of The Moravian Gallery in Brno.', url='https://www.gotobrno.cz/en/events/made-by-fire/', date_fetched='2024-04-11', address='Moravian Gallery in Brno, Husova 14', dates=[{'start': '2023-11-17', 'end': '2024-08-31'}])"
      ]
     },
     "execution_count": 6,
     "metadata": {},
     "output_type": "execute_result"
    }
   ],
   "execution_count": 6
  },
  {
   "cell_type": "code",
   "source": [
    "ct_openai = get_parsed_content_by_function_call(openaiAgent, url, content)\n",
    "ct_openai"
   ],
   "metadata": {
    "collapsed": false,
    "ExecuteTime": {
     "end_time": "2024-04-10T22:45:27.958115Z",
     "start_time": "2024-04-10T22:45:22.737838Z"
    }
   },
   "id": "2260f5cf6c4ef4bf",
   "outputs": [
    {
     "name": "stderr",
     "output_type": "stream",
     "text": [
      "Error parsing function arguments to dictionary: dictionary update sequence element #0 has length 1; 2 is required. Handling.\n"
     ]
    },
    {
     "name": "stdout",
     "output_type": "stream",
     "text": [
      "Function call response: ChatCompletion(id='chatcmpl-9CayxtgtMn2oyaEBk0v7CEimlwU3Z', choices=[Choice(finish_reason='function_call', index=0, logprobs=None, message=ChatCompletionMessage(content=None, role='assistant', function_call=FunctionCall(arguments='{\"header\":\"Made by Fire\",\"text\":\"The Made by Fire exhibition commemorates the 150th anniversary of the founding of The Museum of Applied Arts of The Moravian Gallery in Brno. Experience the power and fragility of Bohemian glass and porcelain in their trial by fire.\\\\nGlass and porcelain are somewhat of a national treasure. They have a long tradition and a unique place in Czech culture. But what do these terms mean today? Faced with one crisis after another \\\\n social, ecological and geopolitical \\\\n does it still make sense to develop glass and porcelain into the future?\\\\nWe believe it does, and we are convinced that the disclaimer \\\\nMade in Czechia“ has a bright future ahead, both with standard factories as well as small art studios.\\\\nAll 50+ original works featured as part of the exhibition have a common origin \\\\n their glass, porcelain and ceramics were made in the fires of Czech furnaces and kilns. We selected pieces from prestigious glass producers and exporters, the foremost porcelain works, the major players on the design scene, as well as the up-and-coming generation of designers whose work it pays to follow.\\\\nThe exhibition will take you through four thematic sections: Industry → , Adaptation → , Identity → and Experiment → .\\\\nYou will encounter works which test the limits of applied art and deal with contemporary social problems, such as industry competitiveness, its environmental impact, the use of classical forms, and the implementation of new technologies.\",\"brief\":\"The Made by Fire exhibition commemorates the 150th anniversary of the founding of The Museum of Applied Arts of The Moravian Gallery in Brno. It features over 50 original works made of glass, porcelain, and ceramics from Czech furnaces and kilns. The exhibition explores the meaning of glass and porcelain in Czech culture today and addresses contemporary social issues through applied art.\",\"address\":\"Husova 14, Brno, Czech Republic\",\"dates\":\"[{\\\\\"start\\\\\":\\\\\"2023-11-17\\\\\"},{\\\\\"start\\\\\":\\\\\"2024-08-31\\\\\"}]\"}', name='add_event'), tool_calls=None))], created=1712789123, model='gpt-3.5-turbo-1106', object='chat.completion', system_fingerprint='fp_592ef5907d', usage=CompletionUsage(completion_tokens=427, prompt_tokens=1044, total_tokens=1471))\n",
      "Function name: add_event\n",
      "Function parameters: ['header', 'text', 'brief', 'address', 'dates']\n",
      "Fixed encoding: {'header': 'Made by Fire', 'text': 'The Made by Fire exhibition commemorates the 150th anniversary of the founding of The Museum of Applied Arts of The Moravian Gallery in Brno. Experience the power and fragility of Bohemian glass and porcelain in their trial by fire.\\nGlass and porcelain are somewhat of a national treasure. They have a long tradition and a unique place in Czech culture. But what do these terms mean today? Faced with one crisis after another \\n social, ecological and geopolitical \\n does it still make sense to develop glass and porcelain into the future?\\nWe believe it does, and we are convinced that the disclaimer \\nMade in Czechia“ has a bright future ahead, both with standard factories as well as small art studios.\\nAll 50+ original works featured as part of the exhibition have a common origin \\n their glass, porcelain and ceramics were made in the fires of Czech furnaces and kilns. We selected pieces from prestigious glass producers and exporters, the foremost porcelain works, the major players on the design scene, as well as the up-and-coming generation of designers whose work it pays to follow.\\nThe exhibition will take you through four thematic sections: Industry → , Adaptation → , Identity → and Experiment → .\\nYou will encounter works which test the limits of applied art and deal with contemporary social problems, such as industry competitiveness, its environmental impact, the use of classical forms, and the implementation of new technologies.', 'brief': 'The Made by Fire exhibition commemorates the 150th anniversary of the founding of The Museum of Applied Arts of The Moravian Gallery in Brno. It features over 50 original works made of glass, porcelain, and ceramics from Czech furnaces and kilns. The exhibition explores the meaning of glass and porcelain in Czech culture today and addresses contemporary social issues through applied art.', 'address': 'Husova 14, Brno, Czech Republic', 'dates': '[{\"start\":\"2023-11-17\"},{\"start\":\"2024-08-31\"}]'}\n",
      "Function arguments: {'header': 'Made by Fire', 'text': 'The Made by Fire exhibition commemorates the 150th anniversary of the founding of The Museum of Applied Arts of The Moravian Gallery in Brno. Experience the power and fragility of Bohemian glass and porcelain in their trial by fire.\\nGlass and porcelain are somewhat of a national treasure. They have a long tradition and a unique place in Czech culture. But what do these terms mean today? Faced with one crisis after another \\n social, ecological and geopolitical \\n does it still make sense to develop glass and porcelain into the future?\\nWe believe it does, and we are convinced that the disclaimer \\nMade in Czechia“ has a bright future ahead, both with standard factories as well as small art studios.\\nAll 50+ original works featured as part of the exhibition have a common origin \\n their glass, porcelain and ceramics were made in the fires of Czech furnaces and kilns. We selected pieces from prestigious glass producers and exporters, the foremost porcelain works, the major players on the design scene, as well as the up-and-coming generation of designers whose work it pays to follow.\\nThe exhibition will take you through four thematic sections: Industry → , Adaptation → , Identity → and Experiment → .\\nYou will encounter works which test the limits of applied art and deal with contemporary social problems, such as industry competitiveness, its environmental impact, the use of classical forms, and the implementation of new technologies.', 'brief': 'The Made by Fire exhibition commemorates the 150th anniversary of the founding of The Museum of Applied Arts of The Moravian Gallery in Brno. It features over 50 original works made of glass, porcelain, and ceramics from Czech furnaces and kilns. The exhibition explores the meaning of glass and porcelain in Czech culture today and addresses contemporary social issues through applied art.', 'address': 'Husova 14, Brno, Czech Republic', 'dates': '[{\"start\":\"2023-11-17\"},{\"start\":\"2024-08-31\"}]'}\n",
      "Function parameters: ['header', 'text', 'brief', 'address', 'dates']\n",
      "Function name: add_event\n",
      "Checking argument: header\n",
      "Checking argument: text\n",
      "Checking argument: brief\n",
      "Checking argument: address\n",
      "Checking argument: dates\n",
      "Matched arguments: {'header': 'Made by Fire', 'text': 'The Made by Fire exhibition commemorates the 150th anniversary of the founding of The Museum of Applied Arts of The Moravian Gallery in Brno. Experience the power and fragility of Bohemian glass and porcelain in their trial by fire.\\nGlass and porcelain are somewhat of a national treasure. They have a long tradition and a unique place in Czech culture. But what do these terms mean today? Faced with one crisis after another \\n social, ecological and geopolitical \\n does it still make sense to develop glass and porcelain into the future?\\nWe believe it does, and we are convinced that the disclaimer \\nMade in Czechia“ has a bright future ahead, both with standard factories as well as small art studios.\\nAll 50+ original works featured as part of the exhibition have a common origin \\n their glass, porcelain and ceramics were made in the fires of Czech furnaces and kilns. We selected pieces from prestigious glass producers and exporters, the foremost porcelain works, the major players on the design scene, as well as the up-and-coming generation of designers whose work it pays to follow.\\nThe exhibition will take you through four thematic sections: Industry → , Adaptation → , Identity → and Experiment → .\\nYou will encounter works which test the limits of applied art and deal with contemporary social problems, such as industry competitiveness, its environmental impact, the use of classical forms, and the implementation of new technologies.', 'brief': 'The Made by Fire exhibition commemorates the 150th anniversary of the founding of The Museum of Applied Arts of The Moravian Gallery in Brno. It features over 50 original works made of glass, porcelain, and ceramics from Czech furnaces and kilns. The exhibition explores the meaning of glass and porcelain in Czech culture today and addresses contemporary social issues through applied art.', 'address': 'Husova 14, Brno, Czech Republic', 'dates': '[{\"start\":\"2023-11-17\"},{\"start\":\"2024-08-31\"}]'}\n"
     ]
    },
    {
     "data": {
      "text/plain": [
       "EventSchema(header='Made by Fire', record_type='event', brief='The Made by Fire exhibition commemorates the 150th anniversary of the founding of The Museum of Applied Arts of The Moravian Gallery in Brno. It features over 50 original works made of glass, porcelain, and ceramics from Czech furnaces and kilns. The exhibition explores the meaning of glass and porcelain in Czech culture today and addresses contemporary social issues through applied art.', text='The Made by Fire exhibition commemorates the 150th anniversary of the founding of The Museum of Applied Arts of The Moravian Gallery in Brno. Experience the power and fragility of Bohemian glass and porcelain in their trial by fire.\\nGlass and porcelain are somewhat of a national treasure. They have a long tradition and a unique place in Czech culture. But what do these terms mean today? Faced with one crisis after another \\n social, ecological and geopolitical \\n does it still make sense to develop glass and porcelain into the future?\\nWe believe it does, and we are convinced that the disclaimer \\nMade in Czechia“ has a bright future ahead, both with standard factories as well as small art studios.\\nAll 50+ original works featured as part of the exhibition have a common origin \\n their glass, porcelain and ceramics were made in the fires of Czech furnaces and kilns. We selected pieces from prestigious glass producers and exporters, the foremost porcelain works, the major players on the design scene, as well as the up-and-coming generation of designers whose work it pays to follow.\\nThe exhibition will take you through four thematic sections: Industry → , Adaptation → , Identity → and Experiment → .\\nYou will encounter works which test the limits of applied art and deal with contemporary social problems, such as industry competitiveness, its environmental impact, the use of classical forms, and the implementation of new technologies.', url='https://www.gotobrno.cz/en/events/made-by-fire/', date_fetched='2024-04-11', address='Husova 14, Brno, Czech Republic', dates='[{\"start\":\"2023-11-17\"},{\"start\":\"2024-08-31\"}]')"
      ]
     },
     "execution_count": 7,
     "metadata": {},
     "output_type": "execute_result"
    }
   ],
   "execution_count": 7
  },
  {
   "cell_type": "code",
   "source": [
    "ct_ollama = get_parsed_content_by_function_call(ollamaAgent, url, content)\n",
    "ct_ollama"
   ],
   "metadata": {
    "collapsed": false,
    "ExecuteTime": {
     "end_time": "2024-04-10T22:53:22.351305Z",
     "start_time": "2024-04-10T22:52:43.527264Z"
    }
   },
   "id": "a40303354bb378be",
   "outputs": [
    {
     "name": "stdout",
     "output_type": "stream",
     "text": [
      "Messages: [{'role': 'system', 'content': 'You are a smart processor of web-scraped text. Follow these instructions: \\n                        1. Go through the text and extract information from the article, translate to English if not in English. Use plain text. \\n                        2. Use the function with the most fitting description, pass parameters as described in the following steps:\\n                        Use provided or generate a header more fitting the found text. \\n                        If you encounter a descriptive text of the entity, for example a plot of a theatrical performance for an event or a menu of a restaurant for a place, assign it as the text. Do not shorten it, do not omit any important information. \\n                        Create a brief which is a sum up of the text no longer than 3 sentences. \\n                        For non-static entities only: if you encounter address of a place (such as address of a municipal office for administration or address of concert-hall for an event), assign is as address. Fill in \"Brno, Czech Republic\" if the specific address not found but required. \\n                        For an event entity: assign date(s) of the event as list of durations. The duration format is a stringified JSON object dates=[{\"start\": start_date, \"end\": end_date}] with fields \"start\" and \"end\". Field \"end\" is optional, it is used for period of time (that are two dates from-to, like startdate-enddate, for example 31 jan–14 feb 2024). Use the format YYYY-MM-DD for date, and format HH:MM:SS for time. For example [{\"start\": \"2024-01-11\"}, {\"start\": \"2024-01-14 15:00\"}, {\"start\": \"2024-01-31 15:00\", \"end\": \"2024-02-14\"}]. \\n                        3. End with the function call response, do NOT add any additional text. The function call must be in valid JSON format.'}, {'role': 'user', 'content': 'Here is the text to process ```Event Made by Fire\\nThe Made by Fire exhibition commemorates the 150th anniversary of the founding of The Museum of Applied Arts of The Moravian Gallery in Brno. Experience the power and fragility of Bohemian glass and porcelain in their trial by fire.\\nGlass and porcelain are somewhat of a national treasure. They have a long tradition and a unique place in Czech culture. But what do these terms mean today? Faced with one crisis after another – social, ecological and geopolitical – does it still make sense to develop glass and porcelain into the future?\\nWe believe it does, and we are convinced that the disclaimer “Made in Czechia“ has a bright future ahead, both with standard factories as well as small art studios.\\nAll 50+ original works featured as part of the exhibition have a common origin – their glass, porcelain and ceramics were made in the fires of Czech furnaces and kilns. We selected pieces from prestigious glass producers and exporters, the foremost porcelain works, the major players on the design scene, as well as the up-and-coming generation of designers whose work it pays to follow.\\nThe exhibition will take you through four thematic sections: Industry → , Adaptation → , Identity → and Experiment → .\\nYou will encounter works which test the limits of applied art and deal with contemporary social problems, such as industry competitiveness, its environmental impact, the use of classical forms, and the implementation of new technologies.\\n17 november 2023–31 august 2024\\n190 / 95 / 370 CZK\\nMoravian Gallery in Brno Husova 14```'}]\n"
     ]
    },
    {
     "name": "stderr",
     "output_type": "stream",
     "text": [
      "Retrying, exception: 2 validation errors for FunctionCallOllama\n",
      "name\n",
      "  Field required [type=missing, input_value={}, input_type=dict]\n",
      "    For further information visit https://errors.pydantic.dev/2.6/v/missing\n",
      "arguments\n",
      "  Field required [type=missing, input_value={}, input_type=dict]\n",
      "    For further information visit https://errors.pydantic.dev/2.6/v/missing\n",
      "Traceback (most recent call last):\n",
      "  File \"/home/rinaen/PycharmProjects/communication_agent/venv_3_10/lib/python3.10/site-packages/instructor/patch.py\", line 309, in retry_sync\n",
      "    return process_response(\n",
      "  File \"/home/rinaen/PycharmProjects/communication_agent/venv_3_10/lib/python3.10/site-packages/instructor/patch.py\", line 168, in process_response\n",
      "    model = response_model.from_response(\n",
      "  File \"/home/rinaen/PycharmProjects/communication_agent/venv_3_10/lib/python3.10/site-packages/instructor/function_calls.py\", line 175, in from_response\n",
      "    return cls.model_validate_json(\n",
      "  File \"/home/rinaen/PycharmProjects/communication_agent/venv_3_10/lib/python3.10/site-packages/pydantic/main.py\", line 538, in model_validate_json\n",
      "    return cls.__pydantic_validator__.validate_json(json_data, strict=strict, context=context)\n",
      "pydantic_core._pydantic_core.ValidationError: 2 validation errors for FunctionCallOllama\n",
      "name\n",
      "  Field required [type=missing, input_value={}, input_type=dict]\n",
      "    For further information visit https://errors.pydantic.dev/2.6/v/missing\n",
      "arguments\n",
      "  Field required [type=missing, input_value={}, input_type=dict]\n",
      "    For further information visit https://errors.pydantic.dev/2.6/v/missing\n",
      "Retrying, exception: 2 validation errors for FunctionCallOllama\n",
      "name\n",
      "  Field required [type=missing, input_value={}, input_type=dict]\n",
      "    For further information visit https://errors.pydantic.dev/2.6/v/missing\n",
      "arguments\n",
      "  Field required [type=missing, input_value={}, input_type=dict]\n",
      "    For further information visit https://errors.pydantic.dev/2.6/v/missing\n",
      "Traceback (most recent call last):\n",
      "  File \"/home/rinaen/PycharmProjects/communication_agent/venv_3_10/lib/python3.10/site-packages/instructor/patch.py\", line 309, in retry_sync\n",
      "    return process_response(\n",
      "  File \"/home/rinaen/PycharmProjects/communication_agent/venv_3_10/lib/python3.10/site-packages/instructor/patch.py\", line 168, in process_response\n",
      "    model = response_model.from_response(\n",
      "  File \"/home/rinaen/PycharmProjects/communication_agent/venv_3_10/lib/python3.10/site-packages/instructor/function_calls.py\", line 175, in from_response\n",
      "    return cls.model_validate_json(\n",
      "  File \"/home/rinaen/PycharmProjects/communication_agent/venv_3_10/lib/python3.10/site-packages/pydantic/main.py\", line 538, in model_validate_json\n",
      "    return cls.__pydantic_validator__.validate_json(json_data, strict=strict, context=context)\n",
      "pydantic_core._pydantic_core.ValidationError: 2 validation errors for FunctionCallOllama\n",
      "name\n",
      "  Field required [type=missing, input_value={}, input_type=dict]\n",
      "    For further information visit https://errors.pydantic.dev/2.6/v/missing\n",
      "arguments\n",
      "  Field required [type=missing, input_value={}, input_type=dict]\n",
      "    For further information visit https://errors.pydantic.dev/2.6/v/missing\n",
      "Max retries reached, exception: 2 validation errors for FunctionCallOllama\n",
      "name\n",
      "  Field required [type=missing, input_value={}, input_type=dict]\n",
      "    For further information visit https://errors.pydantic.dev/2.6/v/missing\n",
      "arguments\n",
      "  Field required [type=missing, input_value={}, input_type=dict]\n",
      "    For further information visit https://errors.pydantic.dev/2.6/v/missing\n",
      "Error getting function call response: 2 validation errors for FunctionCallOllama\n",
      "name\n",
      "  Field required [type=missing, input_value={}, input_type=dict]\n",
      "    For further information visit https://errors.pydantic.dev/2.6/v/missing\n",
      "arguments\n",
      "  Field required [type=missing, input_value={}, input_type=dict]\n",
      "    For further information visit https://errors.pydantic.dev/2.6/v/missing. Retrying\n",
      "Error getting function call response: 'NoneType' object is not iterable. Retrying\n",
      "Error getting function call response: 'NoneType' object is not iterable. Retrying\n",
      "Error getting function call response: 'NoneType' object is not iterable. Retrying\n",
      "Error getting function call response: 'NoneType' object is not iterable. Retrying\n",
      "Error getting function call response: 'NoneType' object is not iterable. Max retries reached. Skipping.\n"
     ]
    }
   ],
   "execution_count": 9
  },
  {
   "metadata": {},
   "cell_type": "code",
   "outputs": [],
   "execution_count": null,
   "source": "",
   "id": "d9627698d89be50"
  }
 ],
 "metadata": {
  "kernelspec": {
   "display_name": "Python 3",
   "language": "python",
   "name": "python3"
  },
  "language_info": {
   "codemirror_mode": {
    "name": "ipython",
    "version": 2
   },
   "file_extension": ".py",
   "mimetype": "text/x-python",
   "name": "python",
   "nbconvert_exporter": "python",
   "pygments_lexer": "ipython2",
   "version": "2.7.6"
  }
 },
 "nbformat": 4,
 "nbformat_minor": 5
}
