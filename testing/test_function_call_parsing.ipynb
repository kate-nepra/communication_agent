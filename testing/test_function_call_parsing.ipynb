{
 "cells": [
  {
   "cell_type": "code",
   "source": [
    "from src.agents.api_agent import OpenAIApiAgent, LlamaApiAgent, LocalApiAgent\n",
    "from src.data_acquisition.content_processing.content_parsing import get_parsed_content_by_function_call\n",
    "from dotenv import load_dotenv\n",
    "import os\n",
    "\n",
    "load_dotenv()"
   ],
   "metadata": {
    "collapsed": false,
    "ExecuteTime": {
     "end_time": "2024-04-13T20:20:49.373969Z",
     "start_time": "2024-04-13T20:20:48.696569Z"
    }
   },
   "id": "36d4e7fce6add2f8",
   "outputs": [
    {
     "data": {
      "text/plain": [
       "True"
      ]
     },
     "execution_count": 1,
     "metadata": {},
     "output_type": "execute_result"
    }
   ],
   "execution_count": 1
  },
  {
   "cell_type": "code",
   "source": [
    "openai_key = os.getenv(\"OPEN_AI_API_KEY\")\n",
    "openai_url = \"https://api.openai.com/v1\"\n",
    "openai_model = \"gpt-3.5-turbo-1106\"\n",
    "\n",
    "llama_key = os.getenv(\"LLAMA_API_KEY\")\n",
    "llama_url = \"https://api.llama-api.com\"\n",
    "llama_model = \"llama-13b-chat\"\n",
    "\n",
    "ollama_key = \"ollama\"\n",
    "ollama_url = \"http://localhost:11434/v1/\"\n",
    "ollama_model = \"mistral\""
   ],
   "metadata": {
    "collapsed": true,
    "ExecuteTime": {
     "end_time": "2024-04-13T20:20:49.379472Z",
     "start_time": "2024-04-13T20:20:49.375765Z"
    }
   },
   "id": "initial_id",
   "outputs": [],
   "execution_count": 2
  },
  {
   "cell_type": "code",
   "source": [
    "openaiAgent = OpenAIApiAgent(openai_url, openai_key, openai_model)\n",
    "llamaAgent = LlamaApiAgent(llama_url, llama_key, llama_model)\n",
    "ollamaAgent = LocalApiAgent(ollama_url, ollama_key, ollama_model)"
   ],
   "metadata": {
    "collapsed": false,
    "ExecuteTime": {
     "end_time": "2024-04-13T20:20:49.519799Z",
     "start_time": "2024-04-13T20:20:49.380815Z"
    }
   },
   "id": "a6bfd76ca47fcb4c",
   "outputs": [],
   "execution_count": 3
  },
  {
   "cell_type": "code",
   "source": [
    "url = \"https://www.gotobrno.cz/en/explore-brno/go-to-brnos-holy-sites/\"\n",
    "content = \"BRNO’S HOLY SITES Like many other cities in Europe, Brno has a great number of historical buildings related to Christianity to visit. It also has a synagogue and a mosque. A cathedral, a basilica, churches, and chapels – there are many sacred buildings in Brno. Some are of great historical value, and some boast unique architectural elements. This tour will take you to the most interesting ones. Most of the churches in Brno are Roman Catholic. The cathedral on Petrov Hill is one of the prominent features on the city skyline. There are also churches dedicated to St James, St Michael, and St Thomas. In Staré Brno (Old Brno), you can visit Bazilika Nanebevzetí Panny Marie (the Basilica of the Assumption of Our Lady), founded in the 14th century by Queen Elisabeth Richeza. The golden cupola of Pravoslavný chrám sv. Václava (the Orthodox Church of St Wenceslav) on Špilberk Hill is certain to catch your eye. Brno also has Protestant churches, including Červený kostel (the Red Church) and the functionalist Husův sbor (Czechoslovak Hussite Church building). Agudas Achim, the only surviving synagogue of Brno’s original four, is another place worth visiting. The city also holds the first Czech mosque, which was built in Vídeňská Street in 1998.\""
   ],
   "metadata": {
    "collapsed": false,
    "ExecuteTime": {
     "end_time": "2024-04-13T20:20:49.524399Z",
     "start_time": "2024-04-13T20:20:49.521046Z"
    }
   },
   "id": "83fb3002b5395d6d",
   "outputs": [],
   "execution_count": 4
  },
  {
   "metadata": {},
   "cell_type": "code",
   "outputs": [],
   "execution_count": null,
   "source": [
    "ct_llama = get_parsed_content_by_function_call(llamaAgent, url, content)\n",
    "ct_llama"
   ],
   "id": "706823807fb28f05"
  },
  {
   "metadata": {},
   "cell_type": "code",
   "outputs": [],
   "execution_count": null,
   "source": [
    "ct_openai = get_parsed_content_by_function_call(openaiAgent, url, content)\n",
    "ct_openai"
   ],
   "id": "a6013d80777673b9"
  },
  {
   "metadata": {},
   "cell_type": "code",
   "outputs": [],
   "execution_count": null,
   "source": [
    "ct_ollama = get_parsed_content_by_function_call(ollamaAgent, url, content)\n",
    "ct_ollama"
   ],
   "id": "3e52960ea578c6fa"
  }
 ],
 "metadata": {
  "kernelspec": {
   "display_name": "Python 3",
   "language": "python",
   "name": "python3"
  },
  "language_info": {
   "codemirror_mode": {
    "name": "ipython",
    "version": 2
   },
   "file_extension": ".py",
   "mimetype": "text/x-python",
   "name": "python",
   "nbconvert_exporter": "python",
   "pygments_lexer": "ipython2",
   "version": "2.7.6"
  }
 },
 "nbformat": 4,
 "nbformat_minor": 5
}
