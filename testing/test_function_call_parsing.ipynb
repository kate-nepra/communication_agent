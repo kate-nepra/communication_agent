{
 "cells": [
  {
   "cell_type": "code",
   "source": [
    "from src.data_acquisition.content_processing.content_parsing import get_parsed_content_by_function_call\n",
    "from dotenv import load_dotenv\n",
    "\n",
    "load_dotenv()"
   ],
   "metadata": {
    "collapsed": false,
    "ExecuteTime": {
     "end_time": "2024-04-13T20:20:49.373969Z",
     "start_time": "2024-04-13T20:20:48.696569Z"
    }
   },
   "id": "36d4e7fce6add2f8",
   "execution_count": 1,
   "outputs": []
  },
  {
   "cell_type": "code",
   "source": [
    "from src.agents_constants import GPT_3_AGENT, LLAMA3_70_API_AGENT, LLAMA3_70_AGENT\n",
    "\n",
    "openaiAgent = GPT_3_AGENT\n",
    "llamaAgent = LLAMA3_70_API_AGENT\n",
    "ollamaAgent = LLAMA3_70_AGENT"
   ],
   "metadata": {
    "collapsed": false,
    "ExecuteTime": {
     "end_time": "2024-04-13T20:20:49.519799Z",
     "start_time": "2024-04-13T20:20:49.380815Z"
    }
   },
   "id": "a6bfd76ca47fcb4c",
   "execution_count": 3,
   "outputs": []
  },
  {
   "cell_type": "code",
   "source": [
    "url = \"https://www.gotobrno.cz/en/explore-brno/go-to-brnos-holy-sites/\"\n",
    "content = \"BRNO’S HOLY SITES Like many other cities in Europe, Brno has a great number of historical buildings related to Christianity to visit. It also has a synagogue and a mosque. A cathedral, a basilica, churches, and chapels – there are many sacred buildings in Brno. Some are of great historical value, and some boast unique architectural elements. This tour will take you to the most interesting ones. Most of the churches in Brno are Roman Catholic. The cathedral on Petrov Hill is one of the prominent features on the city skyline. There are also churches dedicated to St James, St Michael, and St Thomas. In Staré Brno (Old Brno), you can visit Bazilika Nanebevzetí Panny Marie (the Basilica of the Assumption of Our Lady), founded in the 14th century by Queen Elisabeth Richeza. The golden cupola of Pravoslavný chrám sv. Václava (the Orthodox Church of St Wenceslav) on Špilberk Hill is certain to catch your eye. Brno also has Protestant churches, including Červený kostel (the Red Church) and the functionalist Husův sbor (Czechoslovak Hussite Church building). Agudas Achim, the only surviving synagogue of Brno’s original four, is another place worth visiting. The city also holds the first Czech mosque, which was built in Vídeňská Street in 1998.\""
   ],
   "metadata": {
    "collapsed": false,
    "ExecuteTime": {
     "end_time": "2024-04-13T20:20:49.524399Z",
     "start_time": "2024-04-13T20:20:49.521046Z"
    }
   },
   "id": "83fb3002b5395d6d",
   "execution_count": 4,
   "outputs": []
  },
  {
   "metadata": {},
   "cell_type": "code",
   "execution_count": null,
   "source": [
    "ct_llama = get_parsed_content_by_function_call(llamaAgent, url, content)\n",
    "ct_llama"
   ],
   "id": "706823807fb28f05",
   "outputs": []
  },
  {
   "metadata": {},
   "cell_type": "code",
   "execution_count": null,
   "source": [
    "ct_openai = get_parsed_content_by_function_call(openaiAgent, url, content)\n",
    "ct_openai"
   ],
   "id": "a6013d80777673b9",
   "outputs": []
  },
  {
   "metadata": {},
   "cell_type": "code",
   "execution_count": null,
   "source": [
    "ct_ollama = get_parsed_content_by_function_call(ollamaAgent, url, content)\n",
    "ct_ollama"
   ],
   "id": "3e52960ea578c6fa",
   "outputs": []
  }
 ],
 "metadata": {
  "kernelspec": {
   "display_name": "Python 3",
   "language": "python",
   "name": "python3"
  },
  "language_info": {
   "codemirror_mode": {
    "name": "ipython",
    "version": 2
   },
   "file_extension": ".py",
   "mimetype": "text/x-python",
   "name": "python",
   "nbconvert_exporter": "python",
   "pygments_lexer": "ipython2",
   "version": "2.7.6"
  }
 },
 "nbformat": 4,
 "nbformat_minor": 5
}
