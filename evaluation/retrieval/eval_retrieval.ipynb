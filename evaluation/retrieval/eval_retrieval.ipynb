{
 "cells": [
  {
   "cell_type": "code",
   "id": "initial_id",
   "metadata": {
    "collapsed": true,
    "ExecuteTime": {
     "end_time": "2024-05-12T19:30:41.676940Z",
     "start_time": "2024-05-12T19:30:39.523081Z"
    }
   },
   "source": [
    "from src.vector_store.vector_storage import VectorStorage\n",
    "import pandas as pd\n",
    "\n",
    "df = pd.read_csv('qa.csv')\n",
    "vec_db = VectorStorage()"
   ],
   "execution_count": 1,
   "outputs": []
  },
  {
   "metadata": {
    "ExecuteTime": {
     "end_time": "2024-05-12T20:30:35.531738Z",
     "start_time": "2024-05-12T19:30:41.678304Z"
    }
   },
   "cell_type": "code",
   "source": [
    "import time\n",
    "\n",
    "for i, row in df.iterrows():\n",
    "    if row['content_type_id'] == 2:\n",
    "        vec = vec_db.vector_query_event(row['question'])\n",
    "        key = vec_db.keyword_query_event(row['question'])\n",
    "        hybrid = vec_db.hybrid_query_event(row['question'])\n",
    "    else:\n",
    "        vec = vec_db.vector_query_base(row['question'])\n",
    "        key = vec_db.keyword_query_base(row['question'])\n",
    "        hybrid = vec_db.hybrid_query_base(row['question'])\n",
    "\n",
    "    found_vec = row['header'] in str(vec)\n",
    "    found_key = row['header'] in str(key)\n",
    "    found_hybrid = row['header'] in str(hybrid)\n",
    "\n",
    "    df.at[i, 'found_vec'] = found_vec\n",
    "    df.at[i, 'found_key'] = found_key\n",
    "    df.at[i, 'found_hybrid'] = found_hybrid\n",
    "    time.sleep(35)\n"
   ],
   "id": "9a04d252c84c9408",
   "execution_count": 2,
   "outputs": []
  },
  {
   "metadata": {
    "ExecuteTime": {
     "end_time": "2024-05-12T20:30:35.581280Z",
     "start_time": "2024-05-12T20:30:35.544650Z"
    }
   },
   "cell_type": "code",
   "source": "df.to_csv('qa_eval.csv', index=False)",
   "id": "2f5573de5d4c2261",
   "execution_count": 3,
   "outputs": []
  },
  {
   "metadata": {
    "ExecuteTime": {
     "end_time": "2024-05-12T21:36:13.765311Z",
     "start_time": "2024-05-12T21:36:13.745249Z"
    }
   },
   "cell_type": "code",
   "source": [
    "all_vec = df['found_vec'].sum()\n",
    "all_key = df['found_key'].sum()\n",
    "all_hybrid = df['found_hybrid'].sum()\n",
    "\n",
    "all_vec_event = df[df['content_type_id'] == 2]['found_vec'].sum()\n",
    "all_key_event = df[df['content_type_id'] == 2]['found_key'].sum()\n",
    "all_hybrid_event = df[df['content_type_id'] == 2]['found_hybrid'].sum()\n",
    "\n",
    "all_vec_base = df[df['content_type_id'] == 1]['found_vec'].sum()\n",
    "all_key_base = df[df['content_type_id'] == 1]['found_key'].sum()\n",
    "all_hybrid_base = df[df['content_type_id'] == 1]['found_hybrid'].sum()\n",
    "\n",
    "all_vec_event_percentage = all_vec_event / df[df['content_type_id'] == 2].shape[0]\n",
    "all_key_event_percentage = all_key_event / df[df['content_type_id'] == 2].shape[0]\n",
    "all_hybrid_event_percentage = all_hybrid_event / df[df['content_type_id'] == 2].shape[0]\n",
    "\n",
    "all_vec_base_percentage = all_vec_base / df[df['content_type_id'] == 1].shape[0]\n",
    "all_key_base_percentage = all_key_base / df[df['content_type_id'] == 1].shape[0]\n",
    "all_hybrid_base_percentage = all_hybrid_base / df[df['content_type_id'] == 1].shape[0]\n",
    "\n",
    "eval_df = pd.DataFrame({'vector': [all_vec, all_vec_event_percentage, all_vec_base_percentage],\n",
    "                        'keyword': [all_key, all_key_event_percentage, all_key_base_percentage],\n",
    "                        'hybrid': [all_hybrid, all_hybrid_event_percentage, all_hybrid_base_percentage]},\n",
    "                       index=['Celkem', 'EventSchema', 'BaseSchema'])\n",
    "\n",
    "eval_df.to_csv('qa_eval_summary.csv')\n",
    "\n",
    "display(eval_df)\n"
   ],
   "id": "e11cb04294fc76ea",
   "execution_count": 9,
   "outputs": []
  }
 ],
 "metadata": {
  "kernelspec": {
   "display_name": "Python 3",
   "language": "python",
   "name": "python3"
  },
  "language_info": {
   "codemirror_mode": {
    "name": "ipython",
    "version": 2
   },
   "file_extension": ".py",
   "mimetype": "text/x-python",
   "name": "python",
   "nbconvert_exporter": "python",
   "pygments_lexer": "ipython2",
   "version": "2.7.6"
  }
 },
 "nbformat": 4,
 "nbformat_minor": 5
}
