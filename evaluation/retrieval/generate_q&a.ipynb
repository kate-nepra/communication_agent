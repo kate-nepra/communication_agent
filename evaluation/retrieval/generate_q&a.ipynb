{
 "cells": [
  {
   "cell_type": "code",
   "id": "initial_id",
   "metadata": {
    "collapsed": true
   },
   "source": [
    "import pandas as pd\n",
    "\n",
    "df = pd.read_csv('eval_parsed_chunks.csv')"
   ],
   "execution_count": null,
   "outputs": []
  },
  {
   "metadata": {},
   "cell_type": "code",
   "source": [
    "from src.agents_constants import LLAMA3_70_AGENT\n",
    "from src.agents.message import SystemMessage, UserMessage\n",
    "\n",
    "agent = LLAMA3_70_AGENT\n",
    "conf = SystemMessage(\n",
    "    \"You are a Function calling agent, your task is to generate question and answer. Analyze user's text and generate one question and an answer to that question, according to the given data. Call provided function 'generate_qa', provide the question and answer as parameters.\")\n",
    "\n",
    "\n",
    "def get_qa(text):\n",
    "    def generate_qa(question: str, answer: str):\n",
    "        \"\"\"Generate question and answer to the question using given data and call this function\"\"\"\n",
    "        return question, answer\n",
    "\n",
    "    usr = UserMessage(f\"\"\"This is the text entity to process: '{text}'\"\"\")\n",
    "    return agent.get_forced_function_call(locals(), generate_qa, 2, [conf, usr])"
   ],
   "id": "f33e8057cc1b6568",
   "execution_count": null,
   "outputs": []
  },
  {
   "metadata": {},
   "cell_type": "code",
   "source": [
    "for i, row in df.iterrows():\n",
    "    text = row['chunk']\n",
    "    q, a = get_qa(text)\n",
    "    df.loc[i, 'question'] = q\n",
    "    df.loc[i, 'answer'] = a"
   ],
   "id": "3128e56f8cb7f490",
   "execution_count": null,
   "outputs": []
  },
  {
   "metadata": {},
   "cell_type": "code",
   "source": "display(df)",
   "id": "30d03cc1b2a6d0d5",
   "execution_count": null,
   "outputs": []
  },
  {
   "metadata": {},
   "cell_type": "code",
   "source": "df.to_csv('qa.csv')",
   "id": "a2ff189994012eb3",
   "execution_count": null,
   "outputs": []
  },
  {
   "metadata": {
    "ExecuteTime": {
     "end_time": "2024-05-12T17:00:05.595402Z",
     "start_time": "2024-05-12T17:00:05.377797Z"
    }
   },
   "cell_type": "code",
   "source": [
    "import pandas as pd\n",
    "from json_repair import repair_json\n",
    "import json\n",
    "\n",
    "df = pd.read_csv('qa.csv')\n",
    "for i, row in df.iterrows():\n",
    "    d = json.loads(repair_json(row['chunk']))\n",
    "    print(d)\n",
    "    df.loc[i, 'type'] = 2 if d['record_type'] == 'event' else 1\n",
    "    df.loc[i, 'header'] = d['header']"
   ],
   "id": "b9641d387495aae6",
   "execution_count": 5,
   "outputs": []
  },
  {
   "metadata": {
    "ExecuteTime": {
     "end_time": "2024-05-12T17:00:10.941372Z",
     "start_time": "2024-05-12T17:00:10.865799Z"
    }
   },
   "cell_type": "code",
   "source": [
    "display(df)\n",
    "df.to_csv('qa.csv')"
   ],
   "id": "d99c4e20e25195ef",
   "execution_count": 6,
   "outputs": []
  }
 ],
 "metadata": {
  "kernelspec": {
   "display_name": "Python 3",
   "language": "python",
   "name": "python3"
  },
  "language_info": {
   "codemirror_mode": {
    "name": "ipython",
    "version": 2
   },
   "file_extension": ".py",
   "mimetype": "text/x-python",
   "name": "python",
   "nbconvert_exporter": "python",
   "pygments_lexer": "ipython2",
   "version": "2.7.6"
  }
 },
 "nbformat": 4,
 "nbformat_minor": 5
}
