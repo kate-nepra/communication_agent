{
 "cells": [
  {
   "cell_type": "code",
   "id": "initial_id",
   "metadata": {
    "collapsed": true
   },
   "source": [
    "from dotenv import load_dotenv\n",
    "\n",
    "import pandas as pd\n",
    "from datasets import Dataset\n",
    "\n",
    "load_dotenv()\n",
    "df = pd.read_csv('qa_eval_responses.csv')"
   ],
   "outputs": [],
   "execution_count": null
  },
  {
   "metadata": {},
   "cell_type": "code",
   "source": [
    "gpt = df[['question', 'answer', 'gpt_3_data', 'gpt_3_response']]\n",
    "gpt = gpt.rename(\n",
    "    columns={'answer': 'ground_truth', 'gpt_3_data': 'contexts', 'gpt_3_response': 'answer'})"
   ],
   "id": "c85d18241a78c74d",
   "outputs": [],
   "execution_count": null
  },
  {
   "metadata": {},
   "cell_type": "code",
   "source": [
    "contexts = gpt['contexts'].tolist()\n",
    "question = gpt['question'].tolist()\n",
    "ground_truth = gpt['ground_truth'].tolist()\n",
    "answer = gpt['answer'].tolist()"
   ],
   "id": "5eb33e64fd76b03",
   "outputs": [],
   "execution_count": null
  },
  {
   "metadata": {},
   "cell_type": "code",
   "source": [
    "import time\n",
    "from ragas.metrics import (\n",
    "\n",
    "    answer_relevancy,\n",
    "    faithfulness,\n",
    "    context_recall,\n",
    "    context_precision,\n",
    ")\n",
    "\n",
    "row_results = []\n",
    "from ragas import evaluate\n",
    "\n",
    "for i in range(10):\n",
    "    data_samples = {\n",
    "        'question': question[:10],\n",
    "        'contexts': contexts[:10],\n",
    "        'ground_truth': ground_truth[:10],\n",
    "        'answer': answer[:10],\n",
    "    }\n",
    "    question = question[10:]\n",
    "    contexts = contexts[10:]\n",
    "    ground_truth = ground_truth[10:]\n",
    "    answer = answer[10:]\n",
    "\n",
    "    print(data_samples)\n",
    "    dataset = Dataset.from_dict(data_samples)\n",
    "    row_result = evaluate(\n",
    "        dataset,\n",
    "        metrics=[\n",
    "            context_precision,\n",
    "            faithfulness,\n",
    "            answer_relevancy,\n",
    "            context_recall,\n",
    "        ],\n",
    "    )\n",
    "    row_result = row_result.to_pandas()\n",
    "    print(row_result)\n",
    "    time.sleep(15)\n",
    "    row_results.append(row_result)"
   ],
   "id": "f29c159b76c4ea76",
   "outputs": [],
   "execution_count": null
  },
  {
   "metadata": {},
   "cell_type": "code",
   "source": [
    "result = pd.concat(row_results)\n",
    "result.to_csv('ragas_gpt_results.csv')"
   ],
   "id": "e3cca3304130ccea",
   "outputs": [],
   "execution_count": null
  },
  {
   "metadata": {},
   "cell_type": "code",
   "source": [
    "for i in range(10):\n",
    "    data_samples = {\n",
    "        'question': question[:10],\n",
    "        'contexts': contexts[:10],\n",
    "        'ground_truth': ground_truth[:10],\n",
    "        'answer': answer[:10],\n",
    "    }\n",
    "\n",
    "    print(data_samples)\n",
    "    dataset = Dataset.from_dict(data_samples)\n",
    "    row_result = evaluate(\n",
    "        dataset,\n",
    "        metrics=[\n",
    "            context_precision,\n",
    "            faithfulness,\n",
    "            answer_relevancy,\n",
    "            context_recall,\n",
    "        ],\n",
    "        raise_exceptions=False,\n",
    "    )\n",
    "    row_result = row_result.to_pandas()\n",
    "    print(row_result)\n",
    "    time.sleep(30)\n",
    "    row_results.append(row_result)\n",
    "    question = question[10:]\n",
    "    contexts = contexts[10:]\n",
    "    ground_truth = ground_truth[10:]\n",
    "    answer = answer[10:]"
   ],
   "id": "573c32d91c9ca008",
   "outputs": [],
   "execution_count": null
  },
  {
   "metadata": {},
   "cell_type": "code",
   "source": [
    "result = pd.concat(row_results)\n",
    "result.to_csv('ragas_gpt_results.csv')"
   ],
   "id": "886bf14fdc7b2de8",
   "outputs": [],
   "execution_count": null
  }
 ],
 "metadata": {
  "kernelspec": {
   "display_name": "Python 3",
   "language": "python",
   "name": "python3"
  },
  "language_info": {
   "codemirror_mode": {
    "name": "ipython",
    "version": 2
   },
   "file_extension": ".py",
   "mimetype": "text/x-python",
   "name": "python",
   "nbconvert_exporter": "python",
   "pygments_lexer": "ipython2",
   "version": "2.7.6"
  }
 },
 "nbformat": 4,
 "nbformat_minor": 5
}
