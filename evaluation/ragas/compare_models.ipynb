{
 "cells": [
  {
   "cell_type": "code",
   "id": "initial_id",
   "metadata": {
    "collapsed": true
   },
   "source": [
    "import pandas as pd\n",
    "\n",
    "llama_3_70 = pd.read_csv('ragas_llama3-70_results.csv')\n",
    "llama_3_70.to_csv('ragas_llama3-70_results.csv', index=False)\n",
    "llama_3_8 = pd.read_csv('ragas_llama3-8_results.csv')\n",
    "mistral = pd.read_csv('ragas_mixtral_results.csv')\n",
    "gpt3 = pd.read_csv('ragas_gpt3_results.csv')"
   ],
   "outputs": [],
   "execution_count": null
  },
  {
   "metadata": {},
   "cell_type": "code",
   "source": [
    "# create df with model, context_precision,answer_relevancy,faithfulness,context_recall columns\n",
    "df = pd.DataFrame(columns=['model', 'context_precision', 'answer_relevancy', 'faithfulness', 'context_recall'])\n",
    "df['model'] = ['llama_3_70', 'llama_3_8', 'mistral', 'gpt3']\n",
    "df['context_precision'] = [llama_3_70['context_precision'].mean(), llama_3_8['context_precision'].mean(),\n",
    "                           mistral['context_precision'].mean(), gpt3['context_precision'].mean()]\n",
    "df['answer_relevancy'] = [llama_3_70['answer_relevancy'].mean(), llama_3_8['answer_relevancy'].mean(),\n",
    "                          mistral['answer_relevancy'].mean(), gpt3['answer_relevancy'].mean()]\n",
    "df['faithfulness'] = [llama_3_70['faithfulness'].mean(), llama_3_8['faithfulness'].mean(),\n",
    "                      mistral['faithfulness'].mean(), gpt3['faithfulness'].mean()]\n",
    "df['context_recall'] = [llama_3_70['context_recall'].mean(), llama_3_8['context_recall'].mean(),\n",
    "                        mistral['context_recall'].mean(), gpt3['context_recall'].mean()]\n",
    "\n",
    "display(df)"
   ],
   "id": "8740daa2a303ea42",
   "outputs": [],
   "execution_count": null
  },
  {
   "metadata": {},
   "cell_type": "code",
   "source": "df.to_csv('ragas_results.csv', index=False)",
   "id": "28024d3eae6163ee",
   "outputs": [],
   "execution_count": null
  }
 ],
 "metadata": {
  "kernelspec": {
   "display_name": "Python 3",
   "language": "python",
   "name": "python3"
  },
  "language_info": {
   "codemirror_mode": {
    "name": "ipython",
    "version": 2
   },
   "file_extension": ".py",
   "mimetype": "text/x-python",
   "name": "python",
   "nbconvert_exporter": "python",
   "pygments_lexer": "ipython2",
   "version": "2.7.6"
  }
 },
 "nbformat": 4,
 "nbformat_minor": 5
}
