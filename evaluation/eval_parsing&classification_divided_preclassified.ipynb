{
 "cells": [
  {
   "cell_type": "code",
   "id": "initial_id",
   "metadata": {
    "collapsed": true,
    "ExecuteTime": {
     "end_time": "2024-04-28T09:56:24.347367Z",
     "start_time": "2024-04-28T09:56:24.048326Z"
    }
   },
   "source": [
    "from src.constants import LOCAL_KEY, LOCAL_URL, OPENAI_URL\n",
    "from dotenv import load_dotenv\n",
    "import os\n",
    "from src.agents.api_agent import LocalApiAgent, OpenAIApiAgent\n",
    "\n",
    "load_dotenv()\n",
    "mixtral = LocalApiAgent(LOCAL_URL, LOCAL_KEY, \"mixtral\")\n",
    "llama3_70 = LocalApiAgent(LOCAL_URL, LOCAL_KEY, \"llama3:70b\")\n",
    "llama2_70 = LocalApiAgent(LOCAL_URL, LOCAL_KEY, \"llama2:70b\")\n",
    "llama3_8 = LocalApiAgent(LOCAL_URL, LOCAL_KEY, \"llama3:8b\")\n",
    "gpt3 = OpenAIApiAgent(OPENAI_URL, os.getenv(\"OPENAI_API_KEY\"), \"gpt-3.5-turbo-0125\")\n",
    "gpt4 = OpenAIApiAgent(OPENAI_URL, os.getenv(\"OPENAI_API_KEY\"), \"gpt-4-turbo\")"
   ],
   "execution_count": 32,
   "outputs": []
  },
  {
   "metadata": {
    "ExecuteTime": {
     "end_time": "2024-04-28T09:56:24.937525Z",
     "start_time": "2024-04-28T09:56:24.931270Z"
    }
   },
   "cell_type": "code",
   "source": [
    "import pandas as pd\n",
    "\n",
    "df_path = '/home/rinaen/PycharmProjects/communication_agent/testing/eval_chunks.csv'\n",
    "df = pd.read_csv(df_path)"
   ],
   "id": "7d1133800e360521",
   "execution_count": 33,
   "outputs": []
  },
  {
   "metadata": {
    "ExecuteTime": {
     "end_time": "2024-04-28T09:56:26.453361Z",
     "start_time": "2024-04-28T09:56:26.445418Z"
    }
   },
   "cell_type": "code",
   "source": [
    "from src.data_acquisition.content_processing.content_parsing import get_parsed_content_by_divided_function_call\n",
    "from src.agents.api_agent import ApiAgent\n",
    "\n",
    "\n",
    "def get_classified(model: ApiAgent, data_df):\n",
    "    classified_types = []\n",
    "    parsed_chunks = []\n",
    "    for index, row in data_df.iterrows():\n",
    "        url = row['url']\n",
    "        chunk = row['chunk']\n",
    "        try:\n",
    "            typ, parsed = get_parsed_content_by_divided_function_call(model, url, chunk)\n",
    "            classified_types.append(typ)\n",
    "            parsed_chunks.append(parsed)\n",
    "        except Exception:\n",
    "            classified_types.append(None)\n",
    "            parsed_chunks.append(None)\n",
    "    return classified_types, parsed_chunks"
   ],
   "id": "bbfae2b636b54e30",
   "execution_count": 34,
   "outputs": []
  },
  {
   "metadata": {
    "ExecuteTime": {
     "end_time": "2024-04-27T23:11:41.316940Z",
     "start_time": "2024-04-27T22:41:39.252795Z"
    }
   },
   "cell_type": "code",
   "source": "mixtral_t, mixtral_p = get_classified(mixtral, df)",
   "id": "24ffba46a5cd2e7b",
   "execution_count": 4,
   "outputs": []
  },
  {
   "metadata": {
    "ExecuteTime": {
     "end_time": "2024-04-28T01:36:33.136461Z",
     "start_time": "2024-04-27T23:11:41.320095Z"
    }
   },
   "cell_type": "code",
   "source": "llama3_70_t, llama3_70_p = get_classified(llama3_70, df)",
   "id": "6c531693e55c6b54",
   "execution_count": 5,
   "outputs": []
  },
  {
   "metadata": {
    "ExecuteTime": {
     "end_time": "2024-04-28T09:50:41.148737Z",
     "start_time": "2024-04-28T09:35:43.470444Z"
    }
   },
   "cell_type": "code",
   "source": "llama2_70_t, llama2_70_p = get_classified(llama2_70, df)",
   "id": "3038e189e21a4bfa",
   "execution_count": 30,
   "outputs": []
  },
  {
   "metadata": {
    "ExecuteTime": {
     "end_time": "2024-04-28T12:09:50.630429Z",
     "start_time": "2024-04-28T09:56:54.805057Z"
    }
   },
   "cell_type": "code",
   "source": "llama3_8_t, llama3_8_p = get_classified(llama3_8, df)",
   "id": "e10e90fe0c551feb",
   "execution_count": 35,
   "outputs": []
  },
  {
   "metadata": {
    "ExecuteTime": {
     "end_time": "2024-04-28T05:36:34.268269Z",
     "start_time": "2024-04-28T05:31:33.281622Z"
    }
   },
   "cell_type": "code",
   "source": "gpt3_t, gpt3_p = get_classified(gpt3, df)",
   "id": "d9415c80af9662de",
   "execution_count": 8,
   "outputs": []
  },
  {
   "metadata": {
    "ExecuteTime": {
     "end_time": "2024-04-28T05:53:19.127787Z",
     "start_time": "2024-04-28T05:36:34.270488Z"
    }
   },
   "cell_type": "code",
   "source": "gpt4_t, gpt4_p = get_classified(gpt4, df)",
   "id": "203636aeed421b9b",
   "execution_count": 9,
   "outputs": []
  },
  {
   "metadata": {
    "ExecuteTime": {
     "end_time": "2024-04-28T12:19:00.382955Z",
     "start_time": "2024-04-28T12:19:00.336336Z"
    }
   },
   "cell_type": "code",
   "source": [
    "df['mixtral'] = mixtral_t\n",
    "df['llama3_70'] = llama3_70_t\n",
    "df['llama2_70'] = llama2_70_t\n",
    "df['llama3_8'] = llama3_8_t\n",
    "df['gpt3'] = gpt3_t\n",
    "df['gpt4'] = gpt4_t\n",
    "\n",
    "df['mixtral_parsed'] = mixtral_p\n",
    "df['llama3_70_parsed'] = llama3_70_p\n",
    "df['llama2_70_parsed'] = llama2_70_p\n",
    "df['llama3_8_parsed'] = llama3_8_p\n",
    "df['gpt3_parsed'] = gpt3_p\n",
    "df['gpt4_parsed'] = gpt4_p\n",
    "\n",
    "df.to_csv('divided-function-call.csv')"
   ],
   "id": "ea7dd0b9feaaa184",
   "execution_count": 36,
   "outputs": []
  },
  {
   "metadata": {
    "ExecuteTime": {
     "end_time": "2024-04-28T13:08:47.000290Z",
     "start_time": "2024-04-28T13:08:46.985163Z"
    }
   },
   "cell_type": "code",
   "source": [
    "df_path = '/home/rinaen/PycharmProjects/communication_agent/testing/divided-function-call.csv'\n",
    "df = pd.read_csv(df_path)"
   ],
   "id": "915ed9f396bd24c9",
   "execution_count": 91,
   "outputs": []
  },
  {
   "metadata": {
    "ExecuteTime": {
     "end_time": "2024-04-28T13:08:47.517510Z",
     "start_time": "2024-04-28T13:08:47.512064Z"
    }
   },
   "cell_type": "code",
   "source": [
    "df['mixtral_same'] = df['mixtral'] == df['type']\n",
    "df['llama3_70_same'] = df['llama3_70'] == df['type']\n",
    "df['llama2_70_same'] = df['llama2_70'] == df['type']\n",
    "df['llama3_8_same'] = df['llama3_8'] == df['type']\n",
    "df['gpt3_same'] = df['gpt3'] == df['type']\n",
    "df['gpt4_same'] = df['gpt4'] == df['type']"
   ],
   "id": "d5ae3a18171b6ef",
   "execution_count": 92,
   "outputs": []
  },
  {
   "metadata": {
    "ExecuteTime": {
     "end_time": "2024-04-28T13:08:48.086124Z",
     "start_time": "2024-04-28T13:08:48.079768Z"
    }
   },
   "cell_type": "code",
   "source": [
    "mixtral_same = df['mixtral_same'].sum()\n",
    "llama3_70_same = df['llama3_70_same'].sum()\n",
    "llama2_70_same = df['llama2_70_same'].sum()\n",
    "llama3_8_same = df['llama3_8_same'].sum()\n",
    "gpt3_same = df['gpt3_same'].sum()\n",
    "gpt4_same = df['gpt4_same'].sum()"
   ],
   "id": "6540d922c1e90d74",
   "execution_count": 93,
   "outputs": []
  },
  {
   "metadata": {
    "ExecuteTime": {
     "end_time": "2024-04-28T13:08:48.589693Z",
     "start_time": "2024-04-28T13:08:48.583491Z"
    }
   },
   "cell_type": "code",
   "source": [
    "mixtral_none = df['mixtral'].isna().sum()\n",
    "llama3_70_none = df['llama3_70'].isna().sum()\n",
    "llama2_70_none = df['llama2_70'].isna().sum()\n",
    "llama3_8_none = df['llama3_8'].isna().sum()\n",
    "gpt3_none = df['gpt3'].isna().sum()\n",
    "gpt4_none = df['gpt4'].isna().sum()"
   ],
   "id": "79e34520ca82bf44",
   "execution_count": 94,
   "outputs": []
  },
  {
   "metadata": {
    "ExecuteTime": {
     "end_time": "2024-04-28T13:08:49.075542Z",
     "start_time": "2024-04-28T13:08:49.069590Z"
    }
   },
   "cell_type": "code",
   "source": [
    "place_df = df[df['type'] == 'place']\n",
    "mixtral_same_place = place_df['mixtral_same'].sum()\n",
    "llama3_70_same_place = place_df['llama3_70_same'].sum()\n",
    "llama2_70_same_place = place_df['llama2_70_same'].sum()\n",
    "llama3_8_same_place = place_df['llama3_8_same'].sum()\n",
    "gpt3_same_place = place_df['gpt3_same'].sum()\n",
    "gpt4_same_place = place_df['gpt4_same'].sum()"
   ],
   "id": "bae7f5328ae1a24",
   "execution_count": 95,
   "outputs": []
  },
  {
   "metadata": {
    "ExecuteTime": {
     "end_time": "2024-04-28T13:08:49.566378Z",
     "start_time": "2024-04-28T13:08:49.558917Z"
    }
   },
   "cell_type": "code",
   "source": [
    "static_df = df[df['type'] == 'static']\n",
    "mixtral_same_static = static_df['mixtral_same'].sum()\n",
    "llama3_70_same_static = static_df['llama3_70_same'].sum()\n",
    "llama2_70_same_static = static_df['llama2_70_same'].sum()\n",
    "llama3_8_same_static = static_df['llama3_8_same'].sum()\n",
    "gpt3_same_static = static_df['gpt3_same'].sum()\n",
    "gpt4_same_static = static_df['gpt4_same'].sum()"
   ],
   "id": "9169a3fd162639cb",
   "execution_count": 96,
   "outputs": []
  },
  {
   "metadata": {
    "ExecuteTime": {
     "end_time": "2024-04-28T13:08:50.060493Z",
     "start_time": "2024-04-28T13:08:50.051410Z"
    }
   },
   "cell_type": "code",
   "source": [
    "administration_df = df[df['type'] == 'administration']\n",
    "mixtral_same_administration = administration_df['mixtral_same'].sum()\n",
    "llama3_70_same_administration = administration_df['llama3_70_same'].sum()\n",
    "llama2_70_same_administration = administration_df['llama2_70_same'].sum()\n",
    "llama3_8_same_administration = administration_df['llama3_8_same'].sum()\n",
    "gpt3_same_administration = administration_df['gpt3_same'].sum()\n",
    "gpt4_same_administration = administration_df['gpt4_same'].sum()"
   ],
   "id": "7d07a4b569afecea",
   "execution_count": 97,
   "outputs": []
  },
  {
   "metadata": {
    "ExecuteTime": {
     "end_time": "2024-04-28T13:08:50.608062Z",
     "start_time": "2024-04-28T13:08:50.601366Z"
    }
   },
   "cell_type": "code",
   "source": [
    "event_df = df[df['type'] == 'event']\n",
    "mixtral_same_event = event_df['mixtral_same'].sum()\n",
    "llama3_70_same_event = event_df['llama3_70_same'].sum()\n",
    "llama2_70_same_event = event_df['llama2_70_same'].sum()\n",
    "llama3_8_same_event = event_df['llama3_8_same'].sum()\n",
    "gpt3_same_event = event_df['gpt3_same'].sum()\n",
    "gpt4_same_event = event_df['gpt4_same'].sum()"
   ],
   "id": "eeeb847fed538e2f",
   "execution_count": 98,
   "outputs": []
  },
  {
   "metadata": {
    "ExecuteTime": {
     "end_time": "2024-04-28T13:08:51.129311Z",
     "start_time": "2024-04-28T13:08:51.121307Z"
    }
   },
   "cell_type": "code",
   "source": [
    "mixtral_same = str(mixtral_same) + ' %'\n",
    "llama3_70_same = str(llama3_70_same) + ' %'\n",
    "llama2_70_same = str(llama2_70_same) + ' %'\n",
    "llama3_8_same = str(llama3_8_same) + ' %'\n",
    "gpt3_same = str(gpt3_same) + ' %'\n",
    "gpt4_same = str(gpt4_same) + ' %'\n",
    "\n",
    "mixtral_none = str(mixtral_none) + ' %'\n",
    "llama3_70_none = str(llama3_70_none) + ' %'\n",
    "llama2_70_none = str(llama2_70_none) + ' %'\n",
    "llama3_8_none = str(llama3_8_none) + ' %'\n",
    "gpt3_none = str(gpt3_none) + ' %'\n",
    "gpt4_none = str(gpt4_none) + ' %'\n",
    "\n",
    "mixtral_same_place = str(mixtral_same_place / len(place_df) * 100) + ' %'\n",
    "llama3_70_same_place = str(llama3_70_same_place / len(place_df) * 100) + ' %'\n",
    "llama2_70_same_place = str(llama2_70_same_place / len(place_df) * 100) + ' %'\n",
    "llama3_8_same_place = str(llama3_8_same_place / len(place_df) * 100) + ' %'\n",
    "gpt3_same_place = str(gpt3_same_place / len(place_df) * 100) + ' %'\n",
    "gpt4_same_place = str(gpt4_same_place / len(place_df) * 100) + ' %'\n",
    "\n",
    "mixtral_same_static = str(mixtral_same_static / len(static_df) * 100) + ' %'\n",
    "llama3_70_same_static = str(llama3_70_same_static / len(static_df) * 100) + ' %'\n",
    "llama2_70_same_static = str(llama2_70_same_static / len(static_df) * 100) + ' %'\n",
    "llama3_8_same_static = str(llama3_8_same_static / len(static_df) * 100) + ' %'\n",
    "gpt3_same_static = str(gpt3_same_static / len(static_df) * 100) + ' %'\n",
    "gpt4_same_static = str(gpt4_same_static / len(static_df) * 100) + ' %'\n",
    "\n",
    "mixtral_same_administration = str(mixtral_same_administration / len(administration_df) * 100) + ' %'\n",
    "llama3_70_same_administration = str(llama3_70_same_administration / len(administration_df) * 100) + ' %'\n",
    "llama2_70_same_administration = str(llama2_70_same_administration / len(administration_df) * 100) + ' %'\n",
    "llama3_8_same_administration = str(llama3_8_same_administration / len(administration_df) * 100) + ' %'\n",
    "gpt3_same_administration = str(gpt3_same_administration / len(administration_df) * 100) + ' %'\n",
    "gpt4_same_administration = str(gpt4_same_administration / len(administration_df) * 100) + ' %'\n",
    "\n",
    "mixtral_same_event = str(mixtral_same_event / len(event_df) * 100) + ' %'\n",
    "llama3_70_same_event = str(llama3_70_same_event / len(event_df) * 100) + ' %'\n",
    "llama2_70_same_event = str(llama2_70_same_event / len(event_df) * 100) + ' %'\n",
    "llama3_8_same_event = str(llama3_8_same_event / len(event_df) * 100) + ' %'\n",
    "gpt3_same_event = str(gpt3_same_event / len(event_df) * 100) + ' %'\n",
    "gpt4_same_event = str(gpt4_same_event / len(event_df) * 100) + ' %'"
   ],
   "id": "44450de1b84f3430",
   "execution_count": 99,
   "outputs": []
  },
  {
   "metadata": {
    "ExecuteTime": {
     "end_time": "2024-04-28T20:42:54.877712Z",
     "start_time": "2024-04-28T20:42:54.870345Z"
    }
   },
   "cell_type": "code",
   "source": [
    "eval_df = pd.DataFrame({\n",
    "    'Model': ['mixtral', 'llama3_70b', 'llama2_70b', 'llama3_8b', 'gpt-3.5', 'gpt-4'],\n",
    "    'Celkem správně': [mixtral_same, llama3_70_same, llama2_70_same, llama3_8_same, gpt3_same, gpt4_same],\n",
    "    'Špatný formát': [mixtral_none, llama3_70_none, llama2_70_none, llama3_8_none, gpt3_none, gpt4_none],\n",
    "    'place': [mixtral_same_place, llama3_70_same_place, llama2_70_same_place, llama3_8_same_place, gpt3_same_place,\n",
    "              gpt4_same_place],\n",
    "    'static': [mixtral_same_static, llama3_70_same_static, llama2_70_same_static, llama3_8_same_static,\n",
    "               gpt3_same_static, gpt4_same_static],\n",
    "    'administration': [mixtral_same_administration, llama3_70_same_administration, llama2_70_same_administration,\n",
    "                       llama3_8_same_administration, gpt3_same_administration, gpt4_same_administration],\n",
    "    'event': [mixtral_same_event, llama3_70_same_event, llama2_70_same_event, llama3_8_same_event, gpt3_same_event,\n",
    "              gpt4_same_event],\n",
    "})\n",
    "\n",
    "eval_df.to_csv('eval_divided_function_call_cls.csv')"
   ],
   "id": "4a3c519061353efe",
   "execution_count": 124,
   "outputs": []
  },
  {
   "metadata": {
    "ExecuteTime": {
     "end_time": "2024-04-28T20:42:13.041626Z",
     "start_time": "2024-04-28T20:42:13.031390Z"
    }
   },
   "cell_type": "code",
   "source": "display(eval_df)",
   "id": "f3afae4d6c3dbcf5",
   "execution_count": 118,
   "outputs": []
  },
  {
   "metadata": {
    "ExecuteTime": {
     "end_time": "2024-04-28T20:42:13.929907Z",
     "start_time": "2024-04-28T20:42:13.925578Z"
    }
   },
   "cell_type": "code",
   "source": [
    "mixtral_ok_p = str(df['mixtral_parsed'].notna().sum()) + ' %'\n",
    "llama3_70_ok_p = str(df['llama3_70_parsed'].notna().sum()) + ' %'\n",
    "llama2_70_ok_p = str(df['llama2_70_parsed'].notna().sum()) + ' %'\n",
    "llama3_8_ok_p = str(df['llama3_8_parsed'].notna().sum()) + ' %'\n",
    "gpt3_ok_p = str(df['gpt3_parsed'].notna().sum()) + ' %'\n",
    "gpt4_ok_p = str(df['gpt4_parsed'].notna().sum()) + ' %'"
   ],
   "id": "64eaacb552b21346",
   "execution_count": 119,
   "outputs": []
  },
  {
   "metadata": {
    "ExecuteTime": {
     "end_time": "2024-04-28T20:42:14.668703Z",
     "start_time": "2024-04-28T20:42:14.622949Z"
    }
   },
   "cell_type": "code",
   "source": [
    "mixtral_ok_p_place = str(df[df['type'] == 'place']['mixtral_parsed'].notna().sum() / len(event_df) * 100) + ' %'\n",
    "llama3_70_ok_p_place = str(df[df['type'] == 'place']['llama3_70_parsed'].notna().sum() / len(event_df) * 100) + ' %'\n",
    "llama2_70_ok_p_place = str(df[df['type'] == 'place']['llama2_70_parsed'].notna().sum() / len(event_df) * 100) + ' %'\n",
    "llama3_8_ok_p_place = str(df[df['type'] == 'place']['llama3_8_parsed'].notna().sum() / len(event_df) * 100) + ' %'\n",
    "gpt3_ok_p_place = str(df[df['type'] == 'place']['gpt3_parsed'].notna().sum() / len(event_df) * 100) + ' %'\n",
    "gpt4_ok_p_place = str(df[df['type'] == 'place']['gpt4_parsed'].notna().sum() / len(event_df) * 100) + ' %'\n",
    "\n",
    "mixtral_ok_p_static = str(df[df['type'] == 'static']['mixtral_parsed'].notna().sum() / len(event_df) * 100) + ' %'\n",
    "llama3_70_ok_p_static = str(df[df['type'] == 'static']['llama3_70_parsed'].notna().sum() / len(event_df) * 100) + ' %'\n",
    "llama2_70_ok_p_static = str(df[df['type'] == 'static']['llama2_70_parsed'].notna().sum() / len(event_df) * 100) + ' %'\n",
    "llama3_8_ok_p_static = str(df[df['type'] == 'static']['llama3_8_parsed'].notna().sum() / len(event_df) * 100) + ' %'\n",
    "gpt3_ok_p_static = str(df[df['type'] == 'static']['gpt3_parsed'].notna().sum() / len(event_df) * 100) + ' %'\n",
    "gpt4_ok_p_static = str(df[df['type'] == 'static']['gpt4_parsed'].notna().sum() / len(event_df) * 100) + ' %'\n",
    "\n",
    "mixtral_ok_p_administration = str(\n",
    "    df[df['type'] == 'administration']['mixtral_parsed'].notna().sum() / len(event_df) * 100) + ' %'\n",
    "llama3_70_ok_p_administration = str(\n",
    "    df[df['type'] == 'administration']['llama3_70_parsed'].notna().sum() / len(event_df) * 100) + ' %'\n",
    "llama2_70_ok_p_administration = str(\n",
    "    df[df['type'] == 'administration']['llama2_70_parsed'].notna().sum() / len(event_df) * 100) + ' %'\n",
    "llama3_8_ok_p_administration = str(\n",
    "    df[df['type'] == 'administration']['llama3_8_parsed'].notna().sum() / len(event_df) * 100) + ' %'\n",
    "gpt3_ok_p_administration = str(\n",
    "    df[df['type'] == 'administration']['gpt3_parsed'].notna().sum() / len(event_df) * 100) + ' %'\n",
    "gpt4_ok_p_administration = str(\n",
    "    df[df['type'] == 'administration']['gpt4_parsed'].notna().sum() / len(event_df) * 100) + ' %'\n",
    "\n",
    "mixtral_ok_p_event = str(df[df['type'] == 'event']['mixtral_parsed'].notna().sum() / len(event_df) * 100) + ' %'\n",
    "llama3_70_ok_p_event = str(df[df['type'] == 'event']['llama3_70_parsed'].notna().sum() / len(event_df) * 100) + ' %'\n",
    "llama2_70_ok_p_event = str(df[df['type'] == 'event']['llama2_70_parsed'].notna().sum() / len(event_df) * 100) + ' %'\n",
    "llama3_8_ok_p_event = str(df[df['type'] == 'event']['llama3_8_parsed'].notna().sum() / len(event_df) * 100) + ' %'\n",
    "gpt3_ok_p_event = str(df[df['type'] == 'event']['gpt3_parsed'].notna().sum() / len(event_df) * 100) + ' %'\n",
    "gpt4_ok_p_event = str(df[df['type'] == 'event']['gpt4_parsed'].notna().sum() / len(event_df) * 100) + ' %'\n"
   ],
   "id": "45de0b06eb9663a6",
   "execution_count": 120,
   "outputs": []
  },
  {
   "metadata": {
    "ExecuteTime": {
     "end_time": "2024-04-28T20:42:15.693840Z",
     "start_time": "2024-04-28T20:42:15.689357Z"
    }
   },
   "cell_type": "code",
   "source": [
    "mixtral_time = '23m 52s'\n",
    "llama3_70_time = '102m 43s'\n",
    "llama2_70_time = '145m 54s'\n",
    "llama3_8_time = '59m 18s'\n",
    "gpt3_time = '5m 58s'\n",
    "gpt4_time = '12m 08s'"
   ],
   "id": "bf2e4d7d998f3120",
   "execution_count": 121,
   "outputs": []
  },
  {
   "metadata": {
    "ExecuteTime": {
     "end_time": "2024-04-28T20:42:16.370698Z",
     "start_time": "2024-04-28T20:42:16.359728Z"
    }
   },
   "cell_type": "code",
   "source": [
    "# eval parsing\n",
    "eval_df = pd.DataFrame({\n",
    "    'Model': ['mixtral', 'llama3_70b', 'llama2_70b', 'llama3_8b', 'gpt-3.5', 'gpt-4'],\n",
    "    'Správný formát': [mixtral_ok_p, llama3_70_ok_p, llama2_70_ok_p, llama3_8_ok_p, gpt3_ok_p, gpt4_ok_p],\n",
    "    'place': [mixtral_ok_p_place, llama3_70_ok_p_place, llama2_70_ok_p_place, llama3_8_ok_p_place, gpt3_ok_p_place,\n",
    "              gpt4_ok_p_place],\n",
    "    'static': [mixtral_ok_p_static, llama3_70_ok_p_static, llama2_70_ok_p_static, llama3_8_ok_p_static,\n",
    "               gpt3_ok_p_static, gpt4_ok_p_static],\n",
    "    'administration': [mixtral_ok_p_administration, llama3_70_ok_p_administration, llama2_70_ok_p_administration,\n",
    "                       llama3_8_ok_p_administration, gpt3_ok_p_administration, gpt4_ok_p_administration],\n",
    "    'event': [mixtral_ok_p_event, llama3_70_ok_p_event, llama2_70_ok_p_event, llama3_8_ok_p_event, gpt3_ok_p_event,\n",
    "              gpt4_ok_p_event],\n",
    "    'Čas': [mixtral_time, llama3_70_time, llama2_70_time, llama3_8_time, gpt3_time, gpt4_time]\n",
    "})\n",
    "\n",
    "eval_df.to_csv('eval_divided_function_call_par.csv')"
   ],
   "id": "8fe9fbb7b905be7c",
   "execution_count": 122,
   "outputs": []
  },
  {
   "metadata": {
    "ExecuteTime": {
     "end_time": "2024-04-28T20:42:19.373334Z",
     "start_time": "2024-04-28T20:42:19.360103Z"
    }
   },
   "cell_type": "code",
   "source": "display(eval_df)",
   "id": "df4b698db050a48c",
   "execution_count": 123,
   "outputs": []
  },
  {
   "metadata": {},
   "cell_type": "code",
   "execution_count": null,
   "source": "",
   "id": "febebb5952da5f4f",
   "outputs": []
  }
 ],
 "metadata": {
  "kernelspec": {
   "display_name": "Python 3",
   "language": "python",
   "name": "python3"
  },
  "language_info": {
   "codemirror_mode": {
    "name": "ipython",
    "version": 2
   },
   "file_extension": ".py",
   "mimetype": "text/x-python",
   "name": "python",
   "nbconvert_exporter": "python",
   "pygments_lexer": "ipython2",
   "version": "2.7.6"
  }
 },
 "nbformat": 4,
 "nbformat_minor": 5
}
