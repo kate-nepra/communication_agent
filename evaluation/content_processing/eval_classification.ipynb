{
 "cells": [
  {
   "cell_type": "code",
   "id": "initial_id",
   "metadata": {
    "collapsed": true
   },
   "source": [
    "from src.constants import LOCAL_URL, LOCAL_KEY, OPENAI_URL\n",
    "from dotenv import load_dotenv\n",
    "import os\n",
    "from src.agents.api_agent import LocalApiAgent, OpenAIApiAgent\n",
    "\n",
    "load_dotenv()\n",
    "mixtral = LocalApiAgent(LOCAL_URL, LOCAL_KEY, \"mixtral\")\n",
    "llama3_70 = LocalApiAgent(LOCAL_URL, LOCAL_KEY, \"llama3:70b\")\n",
    "llama2_70 = LocalApiAgent(LOCAL_URL, LOCAL_KEY, \"llama2:70b\")\n",
    "llama3_8 = LocalApiAgent(LOCAL_URL, LOCAL_KEY, \"llama3:8b\")\n",
    "gpt3 = OpenAIApiAgent(OPENAI_URL, os.getenv(\"OPENAI_API_KEY\"), \"gpt-3.5-turbo-0125\")\n",
    "gpt4 = OpenAIApiAgent(OPENAI_URL, os.getenv(\"OPENAI_API_KEY\"), \"gpt-4-turbo\")"
   ],
   "execution_count": null,
   "outputs": []
  },
  {
   "metadata": {},
   "cell_type": "code",
   "source": [
    "import pandas as pd\n",
    "\n",
    "df_path = '/home/rinaen/PycharmProjects/communication_agent/testing/eval_chunks.csv'\n",
    "df = pd.read_csv(df_path)"
   ],
   "id": "7d1133800e360521",
   "execution_count": null,
   "outputs": []
  },
  {
   "metadata": {},
   "cell_type": "code",
   "source": [
    "from typing import Callable\n",
    "from src.agents.api_agent import ApiAgent\n",
    "\n",
    "\n",
    "def get_classified(model: ApiAgent, method: Callable, chunks: list[str]):\n",
    "    classified = []\n",
    "    for chunk in chunks:\n",
    "        try:\n",
    "            classified.append(method(model, chunk))\n",
    "        except Exception:\n",
    "            classified.append(None)\n",
    "    return classified"
   ],
   "id": "bbfae2b636b54e30",
   "execution_count": null,
   "outputs": []
  },
  {
   "metadata": {},
   "cell_type": "code",
   "source": [
    "from src.data_acquisition.content_processing.content_classification import get_content_type_by_function_call\n",
    "\n",
    "mixtral_function = get_classified(mixtral, get_content_type_by_function_call, df['chunk'].tolist())"
   ],
   "id": "24ffba46a5cd2e7b",
   "execution_count": null,
   "outputs": []
  },
  {
   "metadata": {},
   "cell_type": "code",
   "source": "llama3_70_function = get_classified(llama3_70, get_content_type_by_function_call, df['chunk'].tolist())\n",
   "id": "d6e514967540ea74",
   "execution_count": null,
   "outputs": []
  },
  {
   "metadata": {},
   "cell_type": "code",
   "source": "llama2_70_function = get_classified(llama2_70, get_content_type_by_function_call, df['chunk'].tolist())\n",
   "id": "e4913d1a30931888",
   "execution_count": null,
   "outputs": []
  },
  {
   "metadata": {},
   "cell_type": "code",
   "source": "llama3_8_function = get_classified(llama3_8, get_content_type_by_function_call, df['chunk'].tolist())",
   "id": "4e1c06f003b92b01",
   "execution_count": null,
   "outputs": []
  },
  {
   "metadata": {},
   "cell_type": "code",
   "source": "gpt3_function = get_classified(gpt3, get_content_type_by_function_call, df['chunk'].tolist())\n",
   "id": "bb61bfb188e4d882",
   "execution_count": null,
   "outputs": []
  },
  {
   "metadata": {},
   "cell_type": "code",
   "source": "gpt4_function = get_classified(gpt4, get_content_type_by_function_call, df['chunk'].tolist())",
   "id": "ccc2ace8a7d72582",
   "execution_count": null,
   "outputs": []
  },
  {
   "metadata": {},
   "cell_type": "code",
   "source": [
    "df['mixtral'] = mixtral_function\n",
    "df['llama3_70'] = llama3_70_function\n",
    "df['llama2_70'] = llama2_70_function\n",
    "df['llama3_8'] = llama3_8_function\n",
    "df['gpt3'] = gpt3_function\n",
    "df['gpt4'] = gpt4_function\n",
    "df.to_csv('function-call-classification.csv')"
   ],
   "id": "ea7dd0b9feaaa184",
   "execution_count": null,
   "outputs": []
  },
  {
   "metadata": {},
   "cell_type": "code",
   "source": [
    "df['mixtral_same'] = df['mixtral'] == df['type']\n",
    "df['llama3_70_same'] = df['llama3_70'] == df['type']\n",
    "df['llama2_70_same'] = df['llama2_70'] == df['type']\n",
    "df['llama3_8_same'] = df['llama3_8'] == df['type']\n",
    "df['gpt3_same'] = df['gpt3'] == df['type']\n",
    "df['gpt4_same'] = df['gpt4'] == df['type']"
   ],
   "id": "d5ae3a18171b6ef",
   "execution_count": null,
   "outputs": []
  },
  {
   "metadata": {},
   "cell_type": "code",
   "source": [
    "mixtral_same = df['mixtral_same'].sum()\n",
    "llama3_70_same = df['llama3_70_same'].sum()\n",
    "llama2_70_same = df['llama2_70_same'].sum()\n",
    "llama3_8_same = df['llama3_8_same'].sum()\n",
    "gpt3_same = df['gpt3_same'].sum()\n",
    "gpt4_same = df['gpt4_same'].sum()"
   ],
   "id": "6540d922c1e90d74",
   "execution_count": null,
   "outputs": []
  },
  {
   "metadata": {},
   "cell_type": "code",
   "source": [
    "mixtral_none = df['mixtral'].isna().sum()\n",
    "llama3_70_none = df['llama3_70'].isna().sum()\n",
    "llama2_70_none = df['llama2_70'].isna().sum()\n",
    "llama3_8_none = df['llama3_8'].isna().sum()\n",
    "gpt3_none = df['gpt3'].isna().sum()\n",
    "gpt4_none = df['gpt4'].isna().sum()"
   ],
   "id": "79e34520ca82bf44",
   "execution_count": null,
   "outputs": []
  },
  {
   "metadata": {},
   "cell_type": "code",
   "source": [
    "place_df = df[df['type'] == 'place']\n",
    "mixtral_same_place = place_df['mixtral_same'].sum()\n",
    "llama3_70_same_place = place_df['llama3_70_same'].sum()\n",
    "llama2_70_same_place = place_df['llama2_70_same'].sum()\n",
    "llama3_8_same_place = place_df['llama3_8_same'].sum()\n",
    "gpt3_same_place = place_df['gpt3_same'].sum()\n",
    "gpt4_same_place = place_df['gpt4_same'].sum()"
   ],
   "id": "bae7f5328ae1a24",
   "execution_count": null,
   "outputs": []
  },
  {
   "metadata": {},
   "cell_type": "code",
   "source": [
    "static_df = df[df['type'] == 'static']\n",
    "mixtral_same_static = static_df['mixtral_same'].sum()\n",
    "llama3_70_same_static = static_df['llama3_70_same'].sum()\n",
    "llama2_70_same_static = static_df['llama2_70_same'].sum()\n",
    "llama3_8_same_static = static_df['llama3_8_same'].sum()\n",
    "gpt3_same_static = static_df['gpt3_same'].sum()\n",
    "gpt4_same_static = static_df['gpt4_same'].sum()"
   ],
   "id": "9169a3fd162639cb",
   "execution_count": null,
   "outputs": []
  },
  {
   "metadata": {},
   "cell_type": "code",
   "source": [
    "administration_df = df[df['type'] == 'administration']\n",
    "mixtral_same_administration = administration_df['mixtral_same'].sum()\n",
    "llama3_70_same_administration = administration_df['llama3_70_same'].sum()\n",
    "llama2_70_same_administration = administration_df['llama2_70_same'].sum()\n",
    "llama3_8_same_administration = administration_df['llama3_8_same'].sum()\n",
    "gpt3_same_administration = administration_df['gpt3_same'].sum()\n",
    "gpt4_same_administration = administration_df['gpt4_same'].sum()"
   ],
   "id": "7d07a4b569afecea",
   "execution_count": null,
   "outputs": []
  },
  {
   "metadata": {},
   "cell_type": "code",
   "source": [
    "event_df = df[df['type'] == 'event']\n",
    "mixtral_same_event = event_df['mixtral_same'].sum()\n",
    "llama3_70_same_event = event_df['llama3_70_same'].sum()\n",
    "llama2_70_same_event = event_df['llama2_70_same'].sum()\n",
    "llama3_8_same_event = event_df['llama3_8_same'].sum()\n",
    "gpt3_same_event = event_df['gpt3_same'].sum()\n",
    "gpt4_same_event = event_df['gpt4_same'].sum()"
   ],
   "id": "eeeb847fed538e2f",
   "execution_count": null,
   "outputs": []
  },
  {
   "metadata": {},
   "cell_type": "code",
   "source": [
    "mixtral_same = str(mixtral_same) + ' %'\n",
    "llama3_70_same = str(llama3_70_same) + ' %'\n",
    "llama2_70_same = str(llama2_70_same) + ' %'\n",
    "llama3_8_same = str(llama3_8_same) + ' %'\n",
    "gpt3_same = str(gpt3_same) + ' %'\n",
    "gpt4_same = str(gpt4_same) + ' %'\n",
    "\n",
    "mixtral_none = str(mixtral_none) + ' %'\n",
    "llama3_70_none = str(llama3_70_none) + ' %'\n",
    "llama2_70_none = str(llama2_70_none) + ' %'\n",
    "llama3_8_none = str(llama3_8_none) + ' %'\n",
    "gpt3_none = str(gpt3_none) + ' %'\n",
    "gpt4_none = str(gpt4_none) + ' %'\n",
    "\n",
    "mixtral_same_place = str(mixtral_same_place / len(place_df) * 100) + ' %'\n",
    "llama3_70_same_place = str(llama3_70_same_place / len(place_df) * 100) + ' %'\n",
    "llama2_70_same_place = str(llama2_70_same_place / len(place_df) * 100) + ' %'\n",
    "llama3_8_same_place = str(llama3_8_same_place / len(place_df) * 100) + ' %'\n",
    "gpt3_same_place = str(gpt3_same_place / len(place_df) * 100) + ' %'\n",
    "gpt4_same_place = str(gpt4_same_place / len(place_df) * 100) + ' %'\n",
    "\n",
    "mixtral_same_static = str(mixtral_same_static / len(static_df) * 100) + ' %'\n",
    "llama3_70_same_static = str(llama3_70_same_static / len(static_df) * 100) + ' %'\n",
    "llama2_70_same_static = str(llama2_70_same_static / len(static_df) * 100) + ' %'\n",
    "llama3_8_same_static = str(llama3_8_same_static / len(static_df) * 100) + ' %'\n",
    "gpt3_same_static = str(gpt3_same_static / len(static_df) * 100) + ' %'\n",
    "gpt4_same_static = str(gpt4_same_static / len(static_df) * 100) + ' %'\n",
    "\n",
    "mixtral_same_administration = str(mixtral_same_administration / len(administration_df) * 100) + ' %'\n",
    "llama3_70_same_administration = str(llama3_70_same_administration / len(administration_df) * 100) + ' %'\n",
    "llama2_70_same_administration = str(llama2_70_same_administration / len(administration_df) * 100) + ' %'\n",
    "llama3_8_same_administration = str(llama3_8_same_administration / len(administration_df) * 100) + ' %'\n",
    "gpt3_same_administration = str(gpt3_same_administration / len(administration_df) * 100) + ' %'\n",
    "gpt4_same_administration = str(gpt4_same_administration / len(administration_df) * 100) + ' %'\n",
    "\n",
    "mixtral_same_event = str(mixtral_same_event / len(event_df) * 100) + ' %'\n",
    "llama3_70_same_event = str(llama3_70_same_event / len(event_df) * 100) + ' %'\n",
    "llama2_70_same_event = str(llama2_70_same_event / len(event_df) * 100) + ' %'\n",
    "llama3_8_same_event = str(llama3_8_same_event / len(event_df) * 100) + ' %'\n",
    "gpt3_same_event = str(gpt3_same_event / len(event_df) * 100) + ' %'\n",
    "gpt4_same_event = str(gpt4_same_event / len(event_df) * 100) + ' %'"
   ],
   "id": "44450de1b84f3430",
   "execution_count": null,
   "outputs": []
  },
  {
   "metadata": {},
   "cell_type": "code",
   "source": [
    "mixtral_time = ' 3m 17s  83ms'\n",
    "llama3_70_time = '11m 33s 907ms'\n",
    "llama2_70_time = '9m 36s 971ms'\n",
    "llama3_8_time = '12m 10s 102ms'\n",
    "gpt3_time = ' 1m 44s 844ms'\n",
    "gpt4_time = ' 3m 28s 207ms'"
   ],
   "id": "bf2e4d7d998f3120",
   "execution_count": null,
   "outputs": []
  },
  {
   "metadata": {},
   "cell_type": "code",
   "source": [
    "eval_df = pd.DataFrame({\n",
    "    'Model': ['mixtral', 'llama3_70b', 'llama2_70b', 'llama3_8b', 'gpt-3.5-turbo-0125', 'gpt-4-turbo'],\n",
    "    'Celkem správně': [mixtral_same, llama3_70_same, llama2_70_same, llama3_8_same, gpt3_same, gpt4_same],\n",
    "    'Špatný formát': [mixtral_none, llama3_70_none, llama2_70_none, llama3_8_none, gpt3_none, gpt4_none],\n",
    "    'place': [mixtral_same_place, llama3_70_same_place, llama2_70_same_place, llama3_8_same_place, gpt3_same_place,\n",
    "              gpt4_same_place],\n",
    "    'static': [mixtral_same_static, llama3_70_same_static, llama2_70_same_static, llama3_8_same_static,\n",
    "               gpt3_same_static, gpt4_same_static],\n",
    "    'administration': [mixtral_same_administration, llama3_70_same_administration, llama2_70_same_administration,\n",
    "                       llama3_8_same_administration, gpt3_same_administration, gpt4_same_administration],\n",
    "    'event': [mixtral_same_event, llama3_70_same_event, llama2_70_same_event, llama3_8_same_event, gpt3_same_event,\n",
    "              gpt4_same_event],\n",
    "    'Čas': [mixtral_time, llama3_70_time, llama2_70_time, llama3_8_time, gpt3_time, gpt4_time]\n",
    "})\n",
    "\n",
    "eval_df.to_csv('eval_function_call_classification.csv')"
   ],
   "id": "4a3c519061353efe",
   "execution_count": null,
   "outputs": []
  },
  {
   "metadata": {},
   "cell_type": "code",
   "source": "",
   "id": "8fe9fbb7b905be7c",
   "execution_count": null,
   "outputs": []
  }
 ],
 "metadata": {
  "kernelspec": {
   "display_name": "Python 3",
   "language": "python",
   "name": "python3"
  },
  "language_info": {
   "codemirror_mode": {
    "name": "ipython",
    "version": 2
   },
   "file_extension": ".py",
   "mimetype": "text/x-python",
   "name": "python",
   "nbconvert_exporter": "python",
   "pygments_lexer": "ipython2",
   "version": "2.7.6"
  }
 },
 "nbformat": 4,
 "nbformat_minor": 5
}
