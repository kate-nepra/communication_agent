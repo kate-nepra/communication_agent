{
 "cells": [
  {
   "cell_type": "code",
   "id": "initial_id",
   "metadata": {
    "collapsed": true,
    "ExecuteTime": {
     "end_time": "2024-04-25T17:28:27.496686Z",
     "start_time": "2024-04-25T17:28:27.489920Z"
    }
   },
   "source": [
    "import pandas as pd\n",
    "\n",
    "df_path = '/home/rinaen/PycharmProjects/communication_agent/testing/eval_chunks.csv'\n",
    "df = pd.read_csv(df_path)"
   ],
   "execution_count": 4,
   "outputs": []
  },
  {
   "metadata": {
    "ExecuteTime": {
     "end_time": "2024-04-25T17:28:27.522540Z",
     "start_time": "2024-04-25T17:28:27.518998Z"
    }
   },
   "cell_type": "code",
   "source": [
    "from src.data_acquisition.content_processing.content_classification import get_content_type_simple\n",
    "\n",
    "\n",
    "def get_classified(chunks: list[str]):\n",
    "    classified = []\n",
    "    for chunk in chunks:\n",
    "        try:\n",
    "            classified.append(get_content_type_simple(chunk))\n",
    "        except Exception:\n",
    "            classified.append(None)\n",
    "    return classified"
   ],
   "id": "5b15706e321937c7",
   "execution_count": 5,
   "outputs": []
  },
  {
   "metadata": {
    "ExecuteTime": {
     "end_time": "2024-04-25T17:37:45.011517Z",
     "start_time": "2024-04-25T17:28:27.529367Z"
    }
   },
   "cell_type": "code",
   "source": [
    "chunks = df['chunk'].tolist()\n",
    "classified = get_classified(chunks)\n",
    "df['zero-shot'] = classified\n",
    "display(df)"
   ],
   "id": "7231e35891137e3e",
   "execution_count": 6,
   "outputs": []
  },
  {
   "metadata": {
    "ExecuteTime": {
     "end_time": "2024-04-25T18:34:56.765811Z",
     "start_time": "2024-04-25T18:34:56.759475Z"
    }
   },
   "cell_type": "code",
   "source": [
    "# rename column 'classified' to zero-shot\n",
    "df.rename(columns={'classified': 'zero-shot'}, inplace=True)\n"
   ],
   "id": "75f4994f8697290d",
   "execution_count": 7,
   "outputs": []
  },
  {
   "metadata": {
    "ExecuteTime": {
     "end_time": "2024-04-25T18:39:54.815187Z",
     "start_time": "2024-04-25T18:39:54.802882Z"
    }
   },
   "cell_type": "code",
   "source": [
    "same_df = df.copy()\n",
    "same_df['same'] = df['zero-shot'] == df['type']\n",
    "same = same_df['same'].value_counts()\n",
    "print(f\"Correctly classified: {same[True]} %\")"
   ],
   "id": "5c91e39dca7ad163",
   "execution_count": 10,
   "outputs": []
  },
  {
   "metadata": {
    "ExecuteTime": {
     "end_time": "2024-04-25T18:55:34.205004Z",
     "start_time": "2024-04-25T18:55:34.198762Z"
    }
   },
   "cell_type": "code",
   "source": [
    "place_df = same_df[same_df['type'] == 'place']\n",
    "correct_places = place_df['same'].sum()\n",
    "places_percentage = correct_places / len(place_df) * 100\n",
    "print(\n",
    "    f\"Correctly classified places: {correct_places} out of {len(place_df)}, which makes {places_percentage} %\")\n"
   ],
   "id": "5ca4665c0c01e495",
   "execution_count": 25,
   "outputs": []
  },
  {
   "metadata": {
    "ExecuteTime": {
     "end_time": "2024-04-25T18:55:34.859636Z",
     "start_time": "2024-04-25T18:55:34.854850Z"
    }
   },
   "cell_type": "code",
   "source": [
    "static_df = same_df[same_df['type'] == 'static']\n",
    "correct_static = static_df['same'].sum()\n",
    "static_percentage = correct_static / len(static_df) * 100\n",
    "print(\n",
    "    f\"Correctly classified static: {correct_static} out of {len(static_df)}, which makes {static_percentage} %\")"
   ],
   "id": "deb6387148b9b04b",
   "execution_count": 26,
   "outputs": []
  },
  {
   "metadata": {
    "ExecuteTime": {
     "end_time": "2024-04-25T18:55:35.464496Z",
     "start_time": "2024-04-25T18:55:35.455644Z"
    }
   },
   "cell_type": "code",
   "source": [
    "administration_df = same_df[same_df['type'] == 'administration']\n",
    "correct_administration = administration_df['same'].sum()\n",
    "administration_percentage = correct_administration / len(administration_df) * 100\n",
    "print(\n",
    "    f\"Correctly classified administration: {correct_administration} out of {len(administration_df)}, which makes {administration_percentage} %\")"
   ],
   "id": "6134f6233f352c6",
   "execution_count": 27,
   "outputs": []
  },
  {
   "metadata": {
    "ExecuteTime": {
     "end_time": "2024-04-25T18:55:36.118617Z",
     "start_time": "2024-04-25T18:55:36.110331Z"
    }
   },
   "cell_type": "code",
   "source": [
    "event_df = same_df[same_df['type'] == 'event']\n",
    "correct_event = event_df['same'].sum()\n",
    "event_percentage = correct_event / len(event_df) * 100\n",
    "print(\n",
    "    f\"Correctly classified event: {correct_event} out of {len(event_df)}, which makes {event_percentage} %\")"
   ],
   "id": "2256354645f6ab0d",
   "execution_count": 28,
   "outputs": []
  },
  {
   "metadata": {
    "ExecuteTime": {
     "end_time": "2024-04-25T18:58:14.503206Z",
     "start_time": "2024-04-25T18:58:14.495240Z"
    }
   },
   "cell_type": "code",
   "source": [
    "eval_df = pd.DataFrame({\n",
    "    'Třída': ['place', 'static', 'administration', 'event', 'všechny'],\n",
    "    'Správně': [correct_places, correct_static, correct_administration, correct_event, same[True]],\n",
    "    'Celkem': [len(place_df), len(static_df), len(administration_df), len(event_df), len(same_df)],\n",
    "    '[%]': [places_percentage, static_percentage, administration_percentage, event_percentage,\n",
    "            same[True] / len(same_df) * 100]\n",
    "})\n",
    "display(eval_df)"
   ],
   "id": "79bf93aa2d7a7d1a",
   "execution_count": 31,
   "outputs": []
  },
  {
   "metadata": {
    "ExecuteTime": {
     "end_time": "2024-04-25T19:04:07.994870Z",
     "start_time": "2024-04-25T19:04:07.987912Z"
    }
   },
   "cell_type": "code",
   "source": "eval_df.to_csv('zero_shot_eval.csv', index=False)",
   "id": "5e9b7a33b7a93736",
   "execution_count": 32,
   "outputs": []
  },
  {
   "metadata": {},
   "cell_type": "code",
   "execution_count": null,
   "source": "",
   "id": "8aa5211b078f2311",
   "outputs": []
  }
 ],
 "metadata": {
  "kernelspec": {
   "display_name": "Python 3",
   "language": "python",
   "name": "python3"
  },
  "language_info": {
   "codemirror_mode": {
    "name": "ipython",
    "version": 2
   },
   "file_extension": ".py",
   "mimetype": "text/x-python",
   "name": "python",
   "nbconvert_exporter": "python",
   "pygments_lexer": "ipython2",
   "version": "2.7.6"
  }
 },
 "nbformat": 4,
 "nbformat_minor": 5
}
